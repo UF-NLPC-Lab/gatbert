{
 "cells": [
  {
   "cell_type": "code",
   "execution_count": 1,
   "id": "b5903c5e",
   "metadata": {},
   "outputs": [],
   "source": [
    "from stance_gator.sent_module import SentModule\n",
    "from stance_gator.f1_calc import F1Calc\n",
    "from stance_gator.constants import TriStance\n",
    "import torch\n",
    "from torch.utils.data import Dataset, DataLoader\n",
    "from datasets import load_dataset"
   ]
  },
  {
   "cell_type": "code",
   "execution_count": 2,
   "id": "b18c85ec",
   "metadata": {},
   "outputs": [],
   "source": [
    "torch.set_default_device('cuda')"
   ]
  },
  {
   "cell_type": "code",
   "execution_count": 3,
   "id": "0656ea87",
   "metadata": {},
   "outputs": [],
   "source": [
    "ckpt_path = \"/home/ethanlmines/blue_dir/experiments/lightning_logs/29MaySentMod/checkpoints/epoch=02-val_macro_f1=0.757.ckpt\"\n",
    "ckpt = torch.load(ckpt_path)\n"
   ]
  },
  {
   "cell_type": "code",
   "execution_count": 4,
   "id": "bc206c74",
   "metadata": {},
   "outputs": [],
   "source": [
    "sent_mod = SentModule()\n",
    "sent_mod.load_state_dict(ckpt['state_dict'])\n",
    "sent_mod.eval()\n",
    "tokenizer = sent_mod.encoder.tokenizer"
   ]
  },
  {
   "cell_type": "code",
   "execution_count": 5,
   "id": "afd2fb38",
   "metadata": {},
   "outputs": [
    {
     "name": "stderr",
     "output_type": "stream",
     "text": [
      "Repo card metadata block was not found. Setting CardData to empty.\n"
     ]
    }
   ],
   "source": [
    "hf_dataset = load_dataset(\"SetFit/sst5\")"
   ]
  },
  {
   "cell_type": "code",
   "execution_count": 6,
   "id": "6c8c4234",
   "metadata": {},
   "outputs": [],
   "source": [
    "class MyDataset(Dataset):\n",
    "    def __init__(self, samples):\n",
    "        self.samples = samples\n",
    "    def __getitem__(self, index):\n",
    "        return self.samples[index]\n",
    "    def __len__(self):\n",
    "        return len(self.samples)"
   ]
  },
  {
   "cell_type": "code",
   "execution_count": 7,
   "id": "7dfeca08",
   "metadata": {},
   "outputs": [],
   "source": [
    "label_map = {\"very positive\": TriStance.favor,\n",
    "             \"positive\": TriStance.favor,\n",
    "             \"neutral\": TriStance.neutral,\n",
    "             \"negative\": TriStance.against,\n",
    "             \"very negative\": TriStance.against}\n",
    "encoded = []\n",
    "for sample in hf_dataset['train']:\n",
    "    encoding = tokenizer(text=sample['text'], return_special_tokens_mask=True, return_tensors='pt')\n",
    "    encoding['token_type_ids'] = torch.ones_like(encoding['input_ids'])\n",
    "\n",
    "    special_tokens_mask = encoding.pop('special_tokens_mask')\n",
    "    context_mask = torch.logical_not(special_tokens_mask)\n",
    "\n",
    "    encoded.append({\n",
    "        \"context\": encoding,\n",
    "        \"context_mask\": context_mask,\n",
    "        \"labels\": torch.tensor(label_map[sample['label_text']])\n",
    "    })\n",
    "dataset = MyDataset(encoded)"
   ]
  },
  {
   "cell_type": "code",
   "execution_count": 8,
   "id": "e8f108a4",
   "metadata": {},
   "outputs": [],
   "source": [
    "calc = F1Calc(TriStance.label2id())"
   ]
  },
  {
   "cell_type": "code",
   "execution_count": 9,
   "id": "0d79e662",
   "metadata": {},
   "outputs": [],
   "source": [
    "loader = DataLoader(dataset,\n",
    "                    batch_size=8,\n",
    "                    shuffle=False,\n",
    "                    collate_fn=sent_mod.encoder.collate)"
   ]
  },
  {
   "cell_type": "code",
   "execution_count": 10,
   "id": "6815bf5f",
   "metadata": {},
   "outputs": [],
   "source": [
    "sent_mod.to(\"cuda\")\n",
    "for batch in loader:\n",
    "    labels = batch.pop('labels')\n",
    "    preds = sent_mod.predict_sent(**batch)\n",
    "    calc.record(preds, labels)\n",
    "calc.summarize()"
   ]
  },
  {
   "cell_type": "code",
   "execution_count": 12,
   "id": "854db558",
   "metadata": {},
   "outputs": [
    {
     "data": {
      "text/plain": [
       "{'neutral_precision': tensor(0.2013, device='cuda:0'),\n",
       " 'neutral_recall': tensor(0.5776, device='cuda:0'),\n",
       " 'neutral_f1': tensor(0.2985, device='cuda:0'),\n",
       " 'against_precision': tensor(0.5433, device='cuda:0'),\n",
       " 'against_recall': tensor(0.4529, device='cuda:0'),\n",
       " 'against_f1': tensor(0.4940, device='cuda:0'),\n",
       " 'favor_precision': tensor(0.8187, device='cuda:0'),\n",
       " 'favor_recall': tensor(0.2551, device='cuda:0'),\n",
       " 'favor_f1': tensor(0.3890, device='cuda:0'),\n",
       " 'macro_f1': tensor(0.3938, device='cuda:0')}"
      ]
     },
     "execution_count": 12,
     "metadata": {},
     "output_type": "execute_result"
    }
   ],
   "source": [
    "calc.results"
   ]
  },
  {
   "cell_type": "code",
   "execution_count": null,
   "id": "ff83698c",
   "metadata": {},
   "outputs": [],
   "source": []
  }
 ],
 "metadata": {
  "kernelspec": {
   "display_name": "Python 3",
   "language": "python",
   "name": "python3"
  },
  "language_info": {
   "codemirror_mode": {
    "name": "ipython",
    "version": 3
   },
   "file_extension": ".py",
   "mimetype": "text/x-python",
   "name": "python",
   "nbconvert_exporter": "python",
   "pygments_lexer": "ipython3",
   "version": "3.12.10"
  }
 },
 "nbformat": 4,
 "nbformat_minor": 5
}
