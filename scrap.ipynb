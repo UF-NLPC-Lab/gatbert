{
 "cells": [
  {
   "cell_type": "code",
   "execution_count": 16,
   "id": "b5903c5e",
   "metadata": {},
   "outputs": [],
   "source": [
    "from stance_gator.data_modules import StanceCorpus, StanceDataModule\n",
    "from stance_gator.sent_module import SentModule\n",
    "from stance_gator.torch_utils import load_module\n",
    "from stance_gator.constants import TriStance\n",
    "import torch\n",
    "from torch.utils.data import Dataset, DataLoader\n",
    "from datasets import load_dataset\n",
    "from lightning.fabric.utilities.apply_func import move_data_to_device\n",
    "import numpy as np"
   ]
  },
  {
   "cell_type": "code",
   "execution_count": 15,
   "id": "e0e63c29",
   "metadata": {},
   "outputs": [],
   "source": [
    "import html\n",
    "from IPython.display import HTML, display"
   ]
  },
  {
   "cell_type": "code",
   "execution_count": 3,
   "id": "76ec3791",
   "metadata": {},
   "outputs": [],
   "source": [
    "sent_mod: SentModule  = load_module('/home/ethanlmines/blue_dir/experiments/lightning_logs/30MayNesyStance/checkpoints/epoch=03-val_macro_f1=0.761.ckpt')"
   ]
  },
  {
   "cell_type": "code",
   "execution_count": 4,
   "id": "8922213f",
   "metadata": {},
   "outputs": [
    {
     "name": "stderr",
     "output_type": "stream",
     "text": [
      "Parsing /home/ethanlmines/blue_dir/datasets/VAST/vast_zero_dev.csv: 0it [00:00, ?it/s]"
     ]
    },
    {
     "name": "stderr",
     "output_type": "stream",
     "text": [
      "Parsing /home/ethanlmines/blue_dir/datasets/VAST/vast_zero_dev.csv: 1019it [00:00, 2043.76it/s]\n",
      "/home/ethanlmines/blue_dir/conda_envs/stance_gator_dev/lib/python3.12/site-packages/torch/utils/data/dataset.py:473: UserWarning: Length of split at index 0 is 0. This might result in an empty dataset.\n",
      "  warnings.warn(\n",
      "/home/ethanlmines/blue_dir/conda_envs/stance_gator_dev/lib/python3.12/site-packages/torch/utils/data/dataset.py:473: UserWarning: Length of split at index 1 is 0. This might result in an empty dataset.\n",
      "  warnings.warn(\n"
     ]
    }
   ],
   "source": [
    "data_mod = StanceDataModule(\n",
    "    [StanceCorpus(\n",
    "        path=\"/home/ethanlmines/blue_dir/datasets/VAST/vast_zero_dev.csv\",\n",
    "        corpus_type='vast',\n",
    "        data_ratio=(0, 0, 1)\n",
    "    )]\n",
    ")\n",
    "data_mod.encoder = sent_mod.encoder\n",
    "data_mod.setup('predict')"
   ]
  },
  {
   "cell_type": "code",
   "execution_count": 23,
   "id": "0656ea87",
   "metadata": {},
   "outputs": [],
   "source": [
    "sent_mod.eval().to('cuda')\n",
    "tokenizer = sent_mod.encoder.tokenizer\n",
    "i = 0\n",
    "\n",
    "def select_from_mask(tensor, mask):\n",
    "    return [el for el,unmasked in zip(tensor, mask) if unmasked]\n",
    "\n",
    "def ids_to_html_str(ids):\n",
    "    return html.escape( tokenizer.convert_tokens_to_string(tokenizer.convert_ids_to_tokens(ids, skip_special_tokens=True)) )\n",
    "\n",
    "for batch in data_mod.test_dataloader():\n",
    "    batch = move_data_to_device(batch, sent_mod.device)\n",
    "    labels = batch.pop('labels')\n",
    "    output = sent_mod(**batch)\n",
    "\n",
    "    # attention_vecs = output.attention.detach().tolist()\n",
    "    stance_prob_dists = output.stance_prob.detach().cpu().numpy()\n",
    "    summand_lists = output.summands.detach().cpu().numpy()\n",
    "    target_id_lists = batch['target']['input_ids'].detach().tolist()\n",
    "    id_lists = batch['context']['input_ids'].detach().tolist()\n",
    "    # token_sent_lists = output.token_sents.detach().tolist()\n",
    "\n",
    "    masks = batch['context_mask'].detach().tolist()\n",
    "    # token_lists = [tokenizer.convert_ids_to_tokens(id_list) for id_list in ]\n",
    "\n",
    "    for mask, id_list, target_id_list, stance_prob_dist, summand_list in zip(masks, id_lists, target_id_lists, stance_prob_dists, summand_lists):\n",
    "\n",
    "        context_str = ids_to_html_str(id_list)\n",
    "        target_str = ids_to_html_str(target_id_list)\n",
    "\n",
    "        token_list = select_from_mask(tokenizer.convert_ids_to_tokens(id_list), mask)\n",
    "        summand_list = summand_list[mask]\n",
    "\n",
    "        prediction = np.argmax(stance_prob_dist)\n",
    "        prediction_prob = stance_prob_dist[prediction]\n",
    "        summand_list = summand_list[:, prediction]\n",
    "        top_tok_indices = np.flip(np.argsort(summand_list))\n",
    "\n",
    "        N = min(len(token_list), 10)\n",
    "\n",
    "        top_toks = [token_list[ind] for ind in top_tok_indices[:N]]\n",
    "        prob_mass = [summand_list[ind] for ind in top_tok_indices[:N]]\n",
    "        \n",
    "        html_toks = []\n",
    "\n",
    "\n",
    "        html_toks.append(f'<p> <strong>Document</strong>: {context_str} </p>')\n",
    "        html_toks.append(f'<p> <strong>Target</strong>: {target_str} </p>')\n",
    "        html_toks.append(f'<p> <strong>Prediction</strong>: P({TriStance(prediction).name}) = {prediction_prob} </p>')\n",
    "\n",
    "        html_toks.append(\"<table>\")\n",
    "        html_toks.append(f'<thead> <tr> <th>Token</th> <th>Contribution</th> </tr> </thead>')\n",
    "        html_toks.append(\"<tbody>\")\n",
    "        for tok, mass_val in zip(top_toks, prob_mass):\n",
    "            html_toks.append(f'<tr> <td>{tok}</td> <td>{mass_val}</td> </tr>')\n",
    "        html_toks.append(\"</tbody>\")\n",
    "        html_toks.append(\"</table>\")\n",
    "        html_str = \"\".join(html_toks)\n",
    "\n",
    "        break\n",
    "    break"
   ]
  },
  {
   "cell_type": "code",
   "execution_count": 24,
   "id": "ff83698c",
   "metadata": {},
   "outputs": [
    {
     "data": {
      "text/html": [
       "<p> <strong>Document</strong>: beaming with pride as my he - man, phd, is laying yet another hardwood floor in our house. forget about fixing toilets ( which is does with ease ), this guy can restore vintage cars, build a redwood strip canoe, and put the second story on our first house! and he raised two sons who are brilliant, great dads, sensitive guys and can fix anything that is broken. one is a painter ( artist type ) and one is a psychiatrist. ladies, you can have it all, but it takes very very careful choosing, let me tell you. and yes, the 70 &#x27; s was full of rigid thinking about gender, which totally ignored the &#x27; evidence on the ground &#x27;. can &#x27; t wait to read the rest of the articles. </p><p> <strong>Target</strong>: casual worker artisan </p><p> <strong>Prediction</strong>: P(favor) = 0.5050007104873657 </p><table><thead> <tr> <th>Token</th> <th>Contribution</th> </tr> </thead><tbody><tr> <td>guy</td> <td>0.02635755017399788</td> </tr><tr> <td>house</td> <td>0.016781138256192207</td> </tr><tr> <td>70</td> <td>0.01491615641862154</td> </tr><tr> <td>hardwood</td> <td>0.013802234083414078</td> </tr><tr> <td>vintage</td> <td>0.012974591925740242</td> </tr><tr> <td>type</td> <td>0.012971651740372181</td> </tr><tr> <td>brilliant</td> <td>0.012965474277734756</td> </tr><tr> <td>a</td> <td>0.01216127723455429</td> </tr><tr> <td>he</td> <td>0.011914760805666447</td> </tr><tr> <td>another</td> <td>0.01172581035643816</td> </tr></tbody></table>"
      ],
      "text/plain": [
       "<IPython.core.display.HTML object>"
      ]
     },
     "metadata": {},
     "output_type": "display_data"
    }
   ],
   "source": [
    "# html_str = '<table><tbody> <tr> <td colspan=\"2\">Doof</td> </tr> <tr> <td>Hi</td> <td>Yo</td> <td>Wassup</td> </tbody></table>'\n",
    "display(HTML(html_str))"
   ]
  },
  {
   "cell_type": "code",
   "execution_count": null,
   "id": "23a1849b",
   "metadata": {},
   "outputs": [],
   "source": []
  }
 ],
 "metadata": {
  "kernelspec": {
   "display_name": "Python 3",
   "language": "python",
   "name": "python3"
  },
  "language_info": {
   "codemirror_mode": {
    "name": "ipython",
    "version": 3
   },
   "file_extension": ".py",
   "mimetype": "text/x-python",
   "name": "python",
   "nbconvert_exporter": "python",
   "pygments_lexer": "ipython3",
   "version": "3.12.10"
  }
 },
 "nbformat": 4,
 "nbformat_minor": 5
}
