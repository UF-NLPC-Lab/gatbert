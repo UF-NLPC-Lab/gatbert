{
 "cells": [
  {
   "cell_type": "code",
   "execution_count": 1,
   "id": "b5903c5e",
   "metadata": {},
   "outputs": [],
   "source": [
    "from stance_gator.data_modules import StanceCorpus, StanceDataModule\n",
    "from stance_gator.sent_module import SentModule\n",
    "from stance_gator.torch_utils import load_module\n",
    "from stance_gator.constants import TriStance\n",
    "from lightning.fabric.utilities.apply_func import move_data_to_device\n",
    "import numpy as np"
   ]
  },
  {
   "cell_type": "code",
   "execution_count": 2,
   "id": "e0e63c29",
   "metadata": {},
   "outputs": [],
   "source": [
    "import html\n",
    "from IPython.display import HTML, display"
   ]
  },
  {
   "cell_type": "code",
   "execution_count": 3,
   "id": "76ec3791",
   "metadata": {},
   "outputs": [],
   "source": [
    "# ckpt_path = '/home/ethanlmines/blue_dir/experiments/lightning_logs/30MayNesyStance/checkpoints/epoch=03-val_macro_f1=0.761.ckpt'\n",
    "ckpt_path = '/home/ethanlmines/blue_dir/experiments/lightning_logs/31MayQuarterTemp/checkpoints/epoch=03-val_macro_f1=0.757.ckpt'\n",
    "sent_mod: SentModule  = load_module(ckpt_path)"
   ]
  },
  {
   "cell_type": "code",
   "execution_count": 4,
   "id": "8922213f",
   "metadata": {},
   "outputs": [
    {
     "name": "stderr",
     "output_type": "stream",
     "text": [
      "Parsing /home/ethanlmines/blue_dir/datasets/VAST/vast_zero_dev.csv: 1019it [00:00, 2022.42it/s]\n",
      "/home/ethanlmines/blue_dir/conda_envs/stance_gator_dev2/lib/python3.12/site-packages/torch/utils/data/dataset.py:473: UserWarning: Length of split at index 0 is 0. This might result in an empty dataset.\n",
      "  warnings.warn(\n",
      "/home/ethanlmines/blue_dir/conda_envs/stance_gator_dev2/lib/python3.12/site-packages/torch/utils/data/dataset.py:473: UserWarning: Length of split at index 1 is 0. This might result in an empty dataset.\n",
      "  warnings.warn(\n"
     ]
    }
   ],
   "source": [
    "data_mod = StanceDataModule(\n",
    "    [StanceCorpus(\n",
    "        path=\"/home/ethanlmines/blue_dir/datasets/VAST/vast_zero_dev.csv\",\n",
    "        corpus_type='vast',\n",
    "        data_ratio=(0, 0, 1)\n",
    "    )]\n",
    ")\n",
    "data_mod.encoder = sent_mod.encoder\n",
    "data_mod.setup('predict')"
   ]
  },
  {
   "cell_type": "code",
   "execution_count": 8,
   "id": "0656ea87",
   "metadata": {},
   "outputs": [
    {
     "data": {
      "text/html": [
       "<p> <strong>Target</strong>: computer generated imagery </p><p> <strong>Document</strong>: today &#x27; s hyper - enhanced cgi extravaganzas are not movies, they are video games, where the effects themselves are the featured attraction. it is sensory overload - - - - - pacing, story, character development take a back seat to this new aesthetic. one can easily imagine some twenty - or thirty - something director, succored from birth on the slash - and - burn intensity of video games - - - - and in the case of the very youngest in hollywood, on movies that have already been styled on such games - - - - - working themselves into a frenzy on a computer, overdosing on special - effects software and whiz - bang cgi. one even imagines that it is the cgi that comes first - - - - - - waking up in the middle of the night with an &#x27; oh, wow, that would be awesome! &#x27; kind of idea, they then build a movie around it only afterward. it is a new language, a new vernacular, of the filmmakers art. whether anyone but the youngest speak this tongue is a moot point. as the saying goes, if you have to ask, you can &#x27; t afford it. in this case, if you don &#x27; t &#x27; get &#x27; this new sensibility, you &#x27; re not relevant in the first place. </p><p> <strong>Prediction</strong>: P(favor) = 0.559333 </p><table><thead> <tr> <th>Token</th> <th>Relevance to Target (Attention)</th> <th>P(favor|Token)</th> <th>Total Contribution</th> </tr> </thead><tbody><tr><td>special</td><td>0.021876</td><td>0.838442</td><td>0.018342</td> </tr></tr><tr><td>effects</td><td>0.022261</td><td>0.702112</td><td>0.015630</td> </tr></tr><tr><td>c</td><td>0.018786</td><td>0.803570</td><td>0.015096</td> </tr></tr><tr><td>c</td><td>0.014697</td><td>0.936690</td><td>0.013766</td> </tr></tr><tr><td>c</td><td>0.014501</td><td>0.863921</td><td>0.012528</td> </tr></tr><tr><td>themselves</td><td>0.022736</td><td>0.511724</td><td>0.011634</td> </tr></tr><tr><td>##gi</td><td>0.013411</td><td>0.834229</td><td>0.011188</td> </tr></tr><tr><td>hyper</td><td>0.020384</td><td>0.542922</td><td>0.011067</td> </tr></tr><tr><td>-</td><td>0.016272</td><td>0.603252</td><td>0.009816</td> </tr></tr><tr><td>enhanced</td><td>0.025046</td><td>0.384910</td><td>0.009640</td> </tr></tr></tbody></table>"
      ],
      "text/plain": [
       "<IPython.core.display.HTML object>"
      ]
     },
     "metadata": {},
     "output_type": "display_data"
    },
    {
     "data": {
      "text/html": [
       "<p> <strong>Target</strong>: best way </p><p> <strong>Document</strong>: i live in las vegas where there are plenty of really good restaurants. if i am paying good money for a meal i should be able to season the food with salt and pepper as i see fit. why should some chef dictate to me what i can and cannot do with my food. there are plenty of famous name restaurants here in vegas that have salt and pepper shakers on the table. </p><p> <strong>Prediction</strong>: P(favor) = 0.682813 </p><table><thead> <tr> <th>Token</th> <th>Relevance to Target (Attention)</th> <th>P(favor|Token)</th> <th>Total Contribution</th> </tr> </thead><tbody><tr><td>fit</td><td>0.046822</td><td>0.911162</td><td>0.042663</td> </tr></tr><tr><td>see</td><td>0.036889</td><td>0.915169</td><td>0.033760</td> </tr></tr><tr><td>really</td><td>0.034388</td><td>0.905393</td><td>0.031134</td> </tr></tr><tr><td>i</td><td>0.033429</td><td>0.909294</td><td>0.030397</td> </tr></tr><tr><td>me</td><td>0.034077</td><td>0.843914</td><td>0.028758</td> </tr></tr><tr><td>what</td><td>0.034463</td><td>0.802786</td><td>0.027666</td> </tr></tr><tr><td>##cta</td><td>0.036580</td><td>0.745649</td><td>0.027276</td> </tr></tr><tr><td>i</td><td>0.027950</td><td>0.906735</td><td>0.025343</td> </tr></tr><tr><td>as</td><td>0.026899</td><td>0.919415</td><td>0.024731</td> </tr></tr><tr><td>where</td><td>0.026483</td><td>0.921976</td><td>0.024417</td> </tr></tr></tbody></table>"
      ],
      "text/plain": [
       "<IPython.core.display.HTML object>"
      ]
     },
     "metadata": {},
     "output_type": "display_data"
    },
    {
     "data": {
      "text/html": [
       "<p> <strong>Target</strong>: place table </p><p> <strong>Document</strong>: just let me know when i make my reservation. i &#x27; ll bring my own salt shaker like i bring my own spleda. i know i can ask for the mustard and the ketchup when i go to my usual spots. after eighty years and many cities, towns, and countries the best cook for me is me. </p><p> <strong>Prediction</strong>: P(favor) = 0.778037 </p><table><thead> <tr> <th>Token</th> <th>Relevance to Target (Attention)</th> <th>P(favor|Token)</th> <th>Total Contribution</th> </tr> </thead><tbody><tr><td>usual</td><td>0.110427</td><td>0.906712</td><td>0.100125</td> </tr></tr><tr><td>reservation</td><td>0.095905</td><td>0.826215</td><td>0.079239</td> </tr></tr><tr><td>spots</td><td>0.070051</td><td>0.766134</td><td>0.053669</td> </tr></tr><tr><td>own</td><td>0.051695</td><td>0.813491</td><td>0.042053</td> </tr></tr><tr><td>i</td><td>0.034968</td><td>0.971382</td><td>0.033967</td> </tr></tr><tr><td>go</td><td>0.028963</td><td>0.940204</td><td>0.027232</td> </tr></tr><tr><td>cook</td><td>0.027518</td><td>0.909484</td><td>0.025028</td> </tr></tr><tr><td>my</td><td>0.026555</td><td>0.935288</td><td>0.024837</td> </tr></tr><tr><td>bring</td><td>0.025789</td><td>0.863347</td><td>0.022265</td> </tr></tr><tr><td>my</td><td>0.022720</td><td>0.917172</td><td>0.020838</td> </tr></tr></tbody></table>"
      ],
      "text/plain": [
       "<IPython.core.display.HTML object>"
      ]
     },
     "metadata": {},
     "output_type": "display_data"
    },
    {
     "data": {
      "text/html": [
       "<p> <strong>Target</strong>: rate professor </p><p> <strong>Document</strong>: a lot of these comments criticize the use of rmp because students who don &#x27; t like to do work and want to be entertained tend to like the easier professors. this is too shallow a view of rmp. rmp has extremely valuable information because people actually type in information. when you read over and over that the teacher fails to adequately explain material so that everyone is confused at test time, that &#x27; s important information for a student. when you read again and again that the teacher doesn &#x27; t like taking questions and instead prefers to stick to her outline, that &#x27; s important information. when you read numerous reviews saying the students came away from the class with a new love of the material, that &#x27; s important information. it &#x27; s also really easy to see which professors are well - liked for being easy - - which is also important information for a student who either needs a filler class to round out an otherwise brutal semester, or needs stronger instruction in that subject, in which case he can avoid the easy teacher. it &#x27; s not about who has five stars versus one, there &#x27; s much more to it than that. </p><p> <strong>Prediction</strong>: P(favor) = 0.808802 </p><table><thead> <tr> <th>Token</th> <th>Relevance to Target (Attention)</th> <th>P(favor|Token)</th> <th>Total Contribution</th> </tr> </thead><tbody><tr><td>professors</td><td>0.051495</td><td>0.793829</td><td>0.040878</td> </tr></tr><tr><td>professors</td><td>0.041608</td><td>0.870402</td><td>0.036216</td> </tr></tr><tr><td>has</td><td>0.043564</td><td>0.745276</td><td>0.032467</td> </tr></tr><tr><td>work</td><td>0.029615</td><td>0.962042</td><td>0.028491</td> </tr></tr><tr><td>##p</td><td>0.027598</td><td>0.941754</td><td>0.025990</td> </tr></tr><tr><td>students</td><td>0.030444</td><td>0.835242</td><td>0.025428</td> </tr></tr><tr><td>it</td><td>0.027936</td><td>0.897242</td><td>0.025066</td> </tr></tr><tr><td>the</td><td>0.025728</td><td>0.917597</td><td>0.023608</td> </tr></tr><tr><td>class</td><td>0.026872</td><td>0.784150</td><td>0.021072</td> </tr></tr><tr><td>semester</td><td>0.050516</td><td>0.400243</td><td>0.020219</td> </tr></tr></tbody></table>"
      ],
      "text/plain": [
       "<IPython.core.display.HTML object>"
      ]
     },
     "metadata": {},
     "output_type": "display_data"
    },
    {
     "data": {
      "text/html": [
       "<p> <strong>Target</strong>: organic product </p><p> <strong>Document</strong>: the best way to differentiate between organic and natural is by informing them that organic food is regulated by the fda - how it is grown and cultivated. whereas all natural products may or may not be good for you e. g. snake venom - it is all natural product but will kill you! </p><p> <strong>Prediction</strong>: P(favor) = 0.702487 </p><table><thead> <tr> <th>Token</th> <th>Relevance to Target (Attention)</th> <th>P(favor|Token)</th> <th>Total Contribution</th> </tr> </thead><tbody><tr><td>organic</td><td>0.176518</td><td>0.676981</td><td>0.119499</td> </tr></tr><tr><td>grown</td><td>0.143932</td><td>0.805783</td><td>0.115978</td> </tr></tr><tr><td>organic</td><td>0.130318</td><td>0.750914</td><td>0.097858</td> </tr></tr><tr><td>natural</td><td>0.123020</td><td>0.718798</td><td>0.088427</td> </tr></tr><tr><td>it</td><td>0.090176</td><td>0.938660</td><td>0.084645</td> </tr></tr><tr><td>cultivated</td><td>0.102926</td><td>0.754031</td><td>0.077609</td> </tr></tr><tr><td>natural</td><td>0.030612</td><td>0.801144</td><td>0.024525</td> </tr></tr><tr><td>food</td><td>0.039950</td><td>0.445075</td><td>0.017781</td> </tr></tr><tr><td>fda</td><td>0.017731</td><td>0.782079</td><td>0.013867</td> </tr></tr><tr><td>them</td><td>0.008217</td><td>0.968236</td><td>0.007956</td> </tr></tr></tbody></table>"
      ],
      "text/plain": [
       "<IPython.core.display.HTML object>"
      ]
     },
     "metadata": {},
     "output_type": "display_data"
    },
    {
     "data": {
      "text/html": [
       "<p> <strong>Target</strong>: parent &#x27; s belief medical field </p><p> <strong>Document</strong>: reality tv is cheap cheap, etc no actors with any talent, no scripts, no plots, no meaning just an appeal to the lowest common denominator of our society. i used to enjoy tv shows but now it just stinks cheap - - i watch pbs where there seems to still be high quality shows with real actors, plots and scripts. </p><p> <strong>Prediction</strong>: P(neutral) = 0.738117 </p><table><thead> <tr> <th>Token</th> <th>Relevance to Target (Attention)</th> <th>P(neutral|Token)</th> <th>Total Contribution</th> </tr> </thead><tbody><tr><td>be</td><td>0.039267</td><td>0.999426</td><td>0.039245</td> </tr></tr><tr><td>.</td><td>0.039106</td><td>0.999435</td><td>0.039084</td> </tr></tr><tr><td>.</td><td>0.039000</td><td>0.999446</td><td>0.038978</td> </tr></tr><tr><td>the</td><td>0.038780</td><td>0.999471</td><td>0.038759</td> </tr></tr><tr><td>to</td><td>0.038563</td><td>0.999474</td><td>0.038542</td> </tr></tr><tr><td>an</td><td>0.038519</td><td>0.999488</td><td>0.038499</td> </tr></tr><tr><td>to</td><td>0.038513</td><td>0.999492</td><td>0.038493</td> </tr></tr><tr><td>,</td><td>0.038468</td><td>0.999484</td><td>0.038448</td> </tr></tr><tr><td>and</td><td>0.038435</td><td>0.999460</td><td>0.038414</td> </tr></tr><tr><td>with</td><td>0.038382</td><td>0.999476</td><td>0.038362</td> </tr></tr></tbody></table>"
      ],
      "text/plain": [
       "<IPython.core.display.HTML object>"
      ]
     },
     "metadata": {},
     "output_type": "display_data"
    },
    {
     "data": {
      "text/html": [
       "<p> <strong>Target</strong>: christian hypocrisy </p><p> <strong>Document</strong>: so if christians elevate religious law over civil law, it is freedom. if muslims do this, it is fascism. if one individual prevents lifesaving care from being administered to another individual, that is a crime. why should shared dna come into the discussion? </p><p> <strong>Prediction</strong>: P(against) = 0.808377 </p><table><thead> <tr> <th>Token</th> <th>Relevance to Target (Attention)</th> <th>P(against|Token)</th> <th>Total Contribution</th> </tr> </thead><tbody><tr><td>fascism</td><td>0.106390</td><td>0.980542</td><td>0.104319</td> </tr></tr><tr><td>christians</td><td>0.109972</td><td>0.900296</td><td>0.099008</td> </tr></tr><tr><td>religious</td><td>0.104391</td><td>0.824260</td><td>0.086045</td> </tr></tr><tr><td>muslims</td><td>0.069402</td><td>0.943662</td><td>0.065493</td> </tr></tr><tr><td>do</td><td>0.062708</td><td>0.943390</td><td>0.059158</td> </tr></tr><tr><td>freedom</td><td>0.063281</td><td>0.833488</td><td>0.052744</td> </tr></tr><tr><td>##te</td><td>0.059724</td><td>0.875810</td><td>0.052307</td> </tr></tr><tr><td>el</td><td>0.060665</td><td>0.838385</td><td>0.050861</td> </tr></tr><tr><td>##eva</td><td>0.055189</td><td>0.800674</td><td>0.044188</td> </tr></tr><tr><td>law</td><td>0.048828</td><td>0.766025</td><td>0.037404</td> </tr></tr></tbody></table>"
      ],
      "text/plain": [
       "<IPython.core.display.HTML object>"
      ]
     },
     "metadata": {},
     "output_type": "display_data"
    }
   ],
   "source": [
    "sent_mod.eval().to('cuda')\n",
    "tokenizer = sent_mod.encoder.tokenizer\n",
    "i = 0\n",
    "\n",
    "def select_from_mask(tensor, mask):\n",
    "    return [el for el,unmasked in zip(tensor, mask) if unmasked]\n",
    "\n",
    "def ids_to_html_str(ids):\n",
    "    return html.escape( tokenizer.convert_tokens_to_string(tokenizer.convert_ids_to_tokens(ids, skip_special_tokens=True)) )\n",
    "\n",
    "for batch in data_mod.test_dataloader():\n",
    "    batch = move_data_to_device(batch, sent_mod.device)\n",
    "    labels = batch.pop('labels')\n",
    "    output = sent_mod(**batch)\n",
    "\n",
    "\n",
    "    iterator = zip(\n",
    "                    batch['context_mask'].detach().tolist(),\n",
    "                    batch['context']['input_ids'].detach().tolist(),\n",
    "                    batch['target']['input_ids'].detach().tolist(),\n",
    "                    output.stance_prob.detach().cpu().numpy(),\n",
    "                    output.summands.detach().cpu().numpy(),\n",
    "                    output.attention.detach().tolist(),\n",
    "                    output.token_sents.detach().tolist()\n",
    "    )\n",
    "    for mask, id_list, target_id_list, stance_prob_dist, summand_list, attention_vec, token_sent in iterator:\n",
    "\n",
    "        context_str = ids_to_html_str(id_list)\n",
    "        target_str = ids_to_html_str(target_id_list)\n",
    "\n",
    "        prediction = np.argmax(stance_prob_dist)\n",
    "        prediction_prob = stance_prob_dist[prediction]\n",
    "        summand_list = summand_list[:, prediction]\n",
    "        top_tok_indices = np.flip(np.argsort(summand_list))\n",
    "\n",
    "        token_list = tokenizer.convert_ids_to_tokens(id_list)\n",
    "        N = min(len(token_list), 10)\n",
    "\n",
    "        class_str = TriStance(prediction).name\n",
    "        html_toks = []\n",
    "        html_toks.append(f'<p> <strong>Target</strong>: {target_str} </p>')\n",
    "        html_toks.append(f'<p> <strong>Document</strong>: {context_str} </p>')\n",
    "        html_toks.append(f'<p> <strong>Prediction</strong>: P({class_str}) = {prediction_prob:.6f} </p>')\n",
    "\n",
    "        html_toks.append(\"<table>\")\n",
    "        html_toks.append(f'<thead> <tr> <th>Token</th> <th>Relevance to Target (Attention)</th> <th>P({class_str}|Token)</th> <th>Total Contribution</th> </tr> </thead>')\n",
    "        html_toks.append(\"<tbody>\")\n",
    "\n",
    "        for ind in top_tok_indices[:N]:\n",
    "            html_toks.append('<tr>')\n",
    "            html_toks.append(f'<td>{token_list[ind]}</td>')\n",
    "            html_toks.append(f'<td>{attention_vec[ind]:.6f}</td>')\n",
    "            html_toks.append(f'<td>{token_sent[ind][prediction]:.6f}</td>')\n",
    "            html_toks.append(f'<td>{summand_list[ind]:.6f}</td> </tr>')\n",
    "            html_toks.append('</tr>')\n",
    "        html_toks.append(\"</tbody>\")\n",
    "        html_toks.append(\"</table>\")\n",
    "        html_str = \"\".join(html_toks)\n",
    "\n",
    "        display(HTML(html_str))\n",
    "        exit = input(\"Press enter to continue (q to quit)\").lower() == 'q'\n",
    "        if exit:\n",
    "            break\n",
    "    if exit:\n",
    "        break"
   ]
  },
  {
   "cell_type": "code",
   "execution_count": 11,
   "id": "ff83698c",
   "metadata": {},
   "outputs": [
    {
     "data": {
      "text/html": [
       "<p> <strong>Target</strong>: female modesty </p><p> <strong>Document</strong>: the only solidarity the hijab shows is with that most ancient of patriarchal male control strategies, shifting the burden of morality, family and male honor, etc., onto the shoulders of female modesty. it is no different from orthodox jewish married women having to cover their hair, or the in the middle ages married women in europe were expected to wear a coif to cover their hair, and is nakedly an attempt to confine women &#x27; s sexual nature in as small a space as possible. it stands in relationship to footbinding and to female genital mutilation, albeit at another point on the bellcurve of control of women and control of female sexuality. if you insist on sacrificing yourself on this altar to show ethnic solidarity, don &#x27; t be surprised when people conclude that islam is still stuck in the past. as rhett butler once famously said to scarlett in &quot; gone with the wind &quot; when she refused to abandon black mourning clothes for a husband she not only didn &#x27; t love, but despised, &quot; how closely women clutch the chains that bind them! &quot; find another way to announce your religious / ethnic identity. your daughters deserve a better message. </p><p> <strong>Prediction</strong>: P(favor) = 0.6407448053359985 </p><table><thead> <tr> <th>Token</th> <th>Att</th> <th>Sent</th> <th>Contribution</th> </tr> </thead><tbody><tr> <td>modest</td> <td>0.07361588627099991</td> <td>0.7244386076927185</td> <td>0.0533301904797554</td> </tr><tr> <td>female</td> <td>0.045711301267147064</td> <td>0.7637415528297424</td> <td>0.0349116213619709</td> </tr><tr> <td>##ital</td> <td>0.04429059103131294</td> <td>0.7480758428573608</td> <td>0.03313272073864937</td> </tr><tr> <td>male</td> <td>0.04917573928833008</td> <td>0.5769947171211243</td> <td>0.028374141082167625</td> </tr><tr> <td>sexual</td> <td>0.03629869967699051</td> <td>0.734909176826477</td> <td>0.026676246896386147</td> </tr><tr> <td>sexuality</td> <td>0.034179843962192535</td> <td>0.7561362385749817</td> <td>0.025844618678092957</td> </tr><tr> <td>women</td> <td>0.03435264900326729</td> <td>0.7336478233337402</td> <td>0.02520274557173252</td> </tr><tr> <td>women</td> <td>0.02912239544093609</td> <td>0.6735926866531372</td> <td>0.019616631790995598</td> </tr><tr> <td>family</td> <td>0.03144524246454239</td> <td>0.5897860527038574</td> <td>0.01854596473276615</td> </tr><tr> <td>male</td> <td>0.034589290618896484</td> <td>0.5014801621437073</td> <td>0.017345843836665154</td> </tr></tbody></table>"
      ],
      "text/plain": [
       "<IPython.core.display.HTML object>"
      ]
     },
     "metadata": {},
     "output_type": "display_data"
    }
   ],
   "source": [
    "# html_str = '<table><tbody> <tr> <td colspan=\"2\">Doof</td> </tr> <tr> <td>Hi</td> <td>Yo</td> <td>Wassup</td> </tbody></table>'\n",
    "display(HTML(html_str))"
   ]
  },
  {
   "cell_type": "code",
   "execution_count": 9,
   "id": "23a1849b",
   "metadata": {},
   "outputs": [
    {
     "data": {
      "text/plain": [
       "0.0532864"
      ]
     },
     "execution_count": 9,
     "metadata": {},
     "output_type": "execute_result"
    }
   ],
   "source": [
    "0.0736 * 0.724"
   ]
  },
  {
   "cell_type": "code",
   "execution_count": null,
   "id": "385a7536",
   "metadata": {},
   "outputs": [],
   "source": []
  }
 ],
 "metadata": {
  "kernelspec": {
   "display_name": "Python 3",
   "language": "python",
   "name": "python3"
  },
  "language_info": {
   "codemirror_mode": {
    "name": "ipython",
    "version": 3
   },
   "file_extension": ".py",
   "mimetype": "text/x-python",
   "name": "python",
   "nbconvert_exporter": "python",
   "pygments_lexer": "ipython3",
   "version": "3.12.10"
  }
 },
 "nbformat": 4,
 "nbformat_minor": 5
}
