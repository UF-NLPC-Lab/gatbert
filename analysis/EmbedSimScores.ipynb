{
 "cells": [
  {
   "cell_type": "code",
   "execution_count": null,
   "metadata": {},
   "outputs": [],
   "source": [
    "# STL\n",
    "import gc\n",
    "# 3rd Party\n",
    "import torch\n",
    "from tqdm import tqdm\n",
    "import plotly.graph_objects as go\n",
    "import numpy as np\n",
    "# Local\n",
    "from gatbert.utils import batched"
   ]
  },
  {
   "cell_type": "code",
   "execution_count": null,
   "metadata": {},
   "outputs": [],
   "source": [
    "# Change this for your own analysis\n",
    "entity_path = \"/home/ethanlmines/blue_dir/models/cn_bert_mar22/entities.pkl\""
   ]
  },
  {
   "cell_type": "code",
   "execution_count": null,
   "metadata": {},
   "outputs": [],
   "source": [
    "embedding_mat = torch.load(entity_path, weights_only=False).weight"
   ]
  },
  {
   "cell_type": "code",
   "execution_count": null,
   "metadata": {},
   "outputs": [],
   "source": [
    "# Normalize all the vectors so that a dot product is equivalent to cosine similarity\n",
    "with torch.no_grad():\n",
    "    for i in tqdm(range(embedding_mat.shape[0]), total=embedding_mat.shape[0]):\n",
    "        embedding_mat[i] /= torch.linalg.vector_norm(embedding_mat[i])"
   ]
  },
  {
   "cell_type": "code",
   "execution_count": null,
   "metadata": {},
   "outputs": [],
   "source": [
    "sim_vals = np.empty([embedding_mat.shape[0], embedding_mat.shape[0]], dtype=np.float16)\n",
    "batch_size = 32\n",
    "est_batches = embedding_mat.shape[0] // batch_size\n",
    "# Afterward need to filter out the self-loops\n",
    "with torch.no_grad():\n",
    "    for tail_inds in tqdm(batched(range(embedding_mat.shape[0]), batch_size), total=est_batches):\n",
    "        tail_sim_vals = embedding_mat @ embedding_mat[tail_inds].transpose(1, 0)\n",
    "        sim_vals[:, tail_inds] = tail_sim_vals.cpu()\n",
    "indices = np.arange(sim_vals.shape[0])\n",
    "sim_vals[indices, indices] = 0.\n",
    "sim_vals = sim_vals.flatten()"
   ]
  },
  {
   "cell_type": "code",
   "execution_count": null,
   "metadata": {},
   "outputs": [],
   "source": [
    "gpu_sim_vals = torch.tensor(sim_vals, device=embedding_mat.device)"
   ]
  },
  {
   "cell_type": "code",
   "execution_count": null,
   "metadata": {},
   "outputs": [],
   "source": [
    "del embedding_mat, tail_sim_vals\n",
    "gc.collect()"
   ]
  },
  {
   "cell_type": "code",
   "execution_count": null,
   "metadata": {},
   "outputs": [],
   "source": [
    "print(\"Total: \", len(gpu_sim_vals))\n",
    "for thresh in [0.90, 0.925, 0.95, 0.975]:\n",
    "    print(f\">= {thresh}: \", torch.sum(gpu_sim_vals >= thresh))"
   ]
  },
  {
   "cell_type": "markdown",
   "metadata": {},
   "source": [
    "## Plotting the Similarity Values\n",
    "As Malaviya et al. (2019) note, these similarity values follow a Gaussian distribution. To avoid memory issues we only use a subset of the similarity values to illustrate."
   ]
  },
  {
   "cell_type": "code",
   "execution_count": null,
   "metadata": {},
   "outputs": [],
   "source": [
    "subset = sim_vals[:100000].astype(np.float64)"
   ]
  },
  {
   "cell_type": "code",
   "execution_count": null,
   "metadata": {},
   "outputs": [],
   "source": [
    "# This is enough samples to see the Gausssian distribution without using absurd amounts of memory\n",
    "fig = go.Figure()\n",
    "fig.add_trace(go.Histogram(\n",
    "    x=sim_vals[:100000]\n",
    "))\n",
    "fig"
   ]
  },
  {
   "cell_type": "code",
   "execution_count": null,
   "metadata": {},
   "outputs": [],
   "source": []
  }
 ],
 "metadata": {
  "kernelspec": {
   "display_name": "Python 3",
   "language": "python",
   "name": "python3"
  },
  "language_info": {
   "codemirror_mode": {
    "name": "ipython",
    "version": 3
   },
   "file_extension": ".py",
   "mimetype": "text/x-python",
   "name": "python",
   "nbconvert_exporter": "python",
   "pygments_lexer": "ipython3",
   "version": "3.12.9"
  }
 },
 "nbformat": 4,
 "nbformat_minor": 2
}
