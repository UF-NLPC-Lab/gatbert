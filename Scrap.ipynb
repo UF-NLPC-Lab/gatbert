{
 "cells": [
  {
   "cell_type": "code",
   "execution_count": 1,
   "metadata": {},
   "outputs": [
    {
     "name": "stderr",
     "output_type": "stream",
     "text": [
      "/home/ethanlmines/blue_dir/conda_envs/gatbert/lib/python3.13/site-packages/tqdm/auto.py:21: TqdmWarning: IProgress not found. Please update jupyter and ipywidgets. See https://ipywidgets.readthedocs.io/en/stable/user_install.html\n",
      "  from .autonotebook import tqdm as notebook_tqdm\n"
     ]
    }
   ],
   "source": [
    "# STL\n",
    "import os\n",
    "from typing import Optional, Dict, Any\n",
    "os.environ['TOKENIZERS_PARALLELISM'] = 'false'\n",
    "# 3rd Party\n",
    "import torch\n",
    "from torch.utils.data import DataLoader\n",
    "torch.manual_seed(0)\n",
    "from transformers import BertModel, AutoModel, BertTokenizerFast, AutoTokenizer, PreTrainedTokenizerFast\n",
    "from tokenizers.pre_tokenizers import BertPreTokenizer, PreTokenizer\n",
    "# Local\n",
    "from gatbert.constants import DEFAULT_MODEL, Stance, NodeType, NODE_PAD_ID\n",
    "from gatbert.data import *\n",
    "from gatbert.rgat_layer import RGATLayer"
   ]
  },
  {
   "cell_type": "code",
   "execution_count": 14,
   "metadata": {},
   "outputs": [],
   "source": [
    "class GATBert(torch.nn.Module):\n",
    "    def __init__(self,\n",
    "                 pretrained_model: str,\n",
    "                 n_relations: int,\n",
    "                 n_kb_nodes: int,\n",
    "                 n_classes: int,\n",
    "                 n_bases: int = 20,\n",
    "                 ):\n",
    "        \"\"\"\n",
    "        Args:\n",
    "            n_kb_nodes: Number of unique kb nodes (including the padding node)\n",
    "            n_relation: Number of unique relations (including the padding relation)\n",
    "\n",
    "        Relation 0 represents token-to-token\n",
    "        \"\"\"\n",
    "        super().__init__()\n",
    "        self.__n_relations = n_relations\n",
    "        self.__bert_model = BertModel.from_pretrained(pretrained_model)\n",
    "        self.__feature_size: int = self.__bert_model.config.hidden_size\n",
    "        self.__n_classes = n_classes\n",
    "\n",
    "        self.__pad_token_id: int = self.__bert_model.config.pad_token_id\n",
    "\n",
    "        self.__kb_embeddings = torch.nn.Embedding(\n",
    "            num_embeddings=n_kb_nodes,\n",
    "            embedding_dim=self.__feature_size,\n",
    "            padding_idx=NODE_PAD_ID\n",
    "        )\n",
    "\n",
    "        self.__rgat = RGATLayer(\n",
    "            in_features=self.__feature_size,\n",
    "            attention_units=self.__feature_size,\n",
    "            out_features=self.__feature_size,\n",
    "            n_heads=6,\n",
    "            n_relations=self.__n_relations,\n",
    "            n_bases=n_bases,\n",
    "            attention_mode='wirgat'\n",
    "        )\n",
    "\n",
    "        self.__projection = torch.nn.Linear(self.__feature_size, self.__n_classes)\n",
    "\n",
    "    def forward(self,\n",
    "                 kb_ids: torch.Tensor,\n",
    "                 edge_indices: torch.Tensor,\n",
    "                 input_ids: torch.Tensor,\n",
    "                 attention_mask: torch.Tensor,\n",
    "                 **bert_kwargs):\n",
    "        \"\"\"\n",
    "        Args:\n",
    "            kb_ids: (batch, max_external_nodes) array with the IDs of knowledge base nodes\n",
    "            edge_indices: (?, 6) index array with latter 6 components being (batch, head, tail, relation, head_node_type, tail_node_type)\n",
    "            input_ids: (batch, max_sequence_length) array with token IDs\n",
    "            attention_mask: attention mask array for input_ids\n",
    "            bert_kwargs: kwargs to pass on to underlying bert model\n",
    "        Returns:\n",
    "            (batch, 3) array of stance class log probabilities\n",
    "        \"\"\"\n",
    "\n",
    "        bert_encodings: torch.Tensor = self.__bert_model(input_ids=input_ids,\n",
    "                                                             attention_mask=attention_mask,\n",
    "                                                             **bert_kwargs).last_hidden_state\n",
    "        node_embeddings = self.__kb_embeddings(kb_ids)\n",
    "\n",
    "        not_token_padding = input_ids != self.__pad_token_id\n",
    "        n_tokens = torch.sum(not_token_padding, dim=-1)\n",
    "        not_node_padding = kb_ids != NODE_PAD_ID\n",
    "        n_kb_nodes = torch.sum(not_node_padding, dim=-1)\n",
    "        max_graph_size = torch.max(n_tokens + n_kb_nodes)\n",
    "\n",
    "\n",
    "        # The GAT layer doesn't take node types--it expects a unique ID for each node\n",
    "        # Thus, we take the number of token nodes for a sequence, and use that as an\n",
    "        # offset for the IDs of KB nodes\n",
    "        # Number of tokens in each sequence of the batch.\n",
    "        kb_head_indices = torch.where(edge_indices[4] == NodeType.KB.value)[0]\n",
    "        edge_indices[1, kb_head_indices] += n_tokens[edge_indices[0, kb_head_indices]]\n",
    "        kb_tail_indices = torch.where(edge_indices[5] == NodeType.KB.value)[0]\n",
    "        edge_indices[2, kb_tail_indices] += n_tokens[edge_indices[0, kb_tail_indices]]\n",
    "        # Don't need head type and tail type anymore\n",
    "        edges_tensor = torch.sparse_coo_tensor(\n",
    "            indices=edge_indices[:4],\n",
    "            values=torch.ones(edge_indices.shape[1]),\n",
    "            size=(input_ids.shape[0], max_graph_size, max_graph_size, self.__n_relations),\n",
    "            is_coalesced=True\n",
    "        )\n",
    "\n",
    "        # Pack the features from tokens and external KB nodes together into one feature map\n",
    "        # All features are zero by default\n",
    "        node_features = torch.zeros([input_ids.shape[0], max_graph_size, self.__feature_size])\n",
    "        # The first nodes' features should be from tokens\n",
    "        batch_indices, token_indices = torch.where(not_token_padding)\n",
    "        node_features[batch_indices, token_indices] = bert_encodings[batch_indices, token_indices]\n",
    "        # The immediately subsequent nodes should have KB features\n",
    "        batch_indices, node_indices = torch.where(not_node_padding)\n",
    "        offset_node_indices = n_tokens[batch_indices] + node_indices\n",
    "        node_features[batch_indices, offset_node_indices] +=  node_embeddings[batch_indices, node_indices]\n",
    "        # Everything else following is zeros, since we used torch.zeros() to construct node_embeddings\n",
    "\n",
    "        last_node_states = self.__rgat(node_features, edges_tensor)\n",
    "        # The first node will correspond to the first token of the sequence, which is [CLS] for Bert models\n",
    "        cls_node_features = last_node_states[:, 0]\n",
    "        logits = self.__projection(cls_node_features)\n",
    "        return logits"
   ]
  },
  {
   "cell_type": "code",
   "execution_count": 15,
   "metadata": {},
   "outputs": [],
   "source": [
    "pretrained_model_name = 'bert-base-cased'"
   ]
  },
  {
   "cell_type": "code",
   "execution_count": 16,
   "metadata": {},
   "outputs": [],
   "source": [
    "tokenizer = AutoTokenizer.from_pretrained(pretrained_model_name, use_fast=True)"
   ]
  },
  {
   "cell_type": "code",
   "execution_count": 17,
   "metadata": {},
   "outputs": [],
   "source": [
    "encoder = make_encoder(tokenizer, BertPreTokenizer())\n",
    "fake_samples = [\n",
    "    Sample(\n",
    "        context=\"We hold these truths to be self-evident, that all men are created equal, that they are endowed by their Creator with certain unalienable Rights, that among these are Life, Liberty and the pursuit of Happiness.\",\n",
    "        target=\"Independence from Britain\",\n",
    "        stance=Stance.FAVOR\n",
    "    ),\n",
    "    Sample(\n",
    "        context=\"Four score and seven years ago our fathers brought forth on this continent, a new nation, conceived in Liberty, and dedicated to the proposition that all men are created equal.\",\n",
    "        target=\"Social Security\",\n",
    "        stance=Stance.NONE\n",
    "    )\n",
    "]\n",
    "ds = MapDataset([encoder(s) for s in fake_samples])\n",
    "loader = DataLoader(ds, batch_size=2, shuffle=False, collate_fn=make_collate_fn(tokenizer))"
   ]
  },
  {
   "cell_type": "code",
   "execution_count": 18,
   "metadata": {},
   "outputs": [],
   "source": [
    "gat_model = GATBert(\n",
    "    pretrained_model=pretrained_model_name,\n",
    "    n_relations=len(DummyRelationType),\n",
    "    n_kb_nodes=1001,\n",
    "    n_classes=len(Stance)\n",
    ")"
   ]
  },
  {
   "cell_type": "code",
   "execution_count": 19,
   "metadata": {},
   "outputs": [
    {
     "ename": "IndexError",
     "evalue": "index 106 is out of bounds for dimension 1 with size 56",
     "output_type": "error",
     "traceback": [
      "\u001b[0;31m---------------------------------------------------------------------------\u001b[0m",
      "\u001b[0;31mIndexError\u001b[0m                                Traceback (most recent call last)",
      "Cell \u001b[0;32mIn[19], line 3\u001b[0m\n\u001b[1;32m      1\u001b[0m \u001b[38;5;28;01mfor\u001b[39;00m batch \u001b[38;5;129;01min\u001b[39;00m loader:\n\u001b[1;32m      2\u001b[0m     stance \u001b[38;5;241m=\u001b[39m batch\u001b[38;5;241m.\u001b[39mpop(\u001b[38;5;124m'\u001b[39m\u001b[38;5;124mstance\u001b[39m\u001b[38;5;124m'\u001b[39m)\n\u001b[0;32m----> 3\u001b[0m     output \u001b[38;5;241m=\u001b[39m \u001b[43mgat_model\u001b[49m\u001b[43m(\u001b[49m\u001b[38;5;241;43m*\u001b[39;49m\u001b[38;5;241;43m*\u001b[39;49m\u001b[43mbatch\u001b[49m\u001b[43m)\u001b[49m\n",
      "File \u001b[0;32m~/blue_dir/conda_envs/gatbert/lib/python3.13/site-packages/torch/nn/modules/module.py:1736\u001b[0m, in \u001b[0;36mModule._wrapped_call_impl\u001b[0;34m(self, *args, **kwargs)\u001b[0m\n\u001b[1;32m   1734\u001b[0m     \u001b[38;5;28;01mreturn\u001b[39;00m \u001b[38;5;28mself\u001b[39m\u001b[38;5;241m.\u001b[39m_compiled_call_impl(\u001b[38;5;241m*\u001b[39margs, \u001b[38;5;241m*\u001b[39m\u001b[38;5;241m*\u001b[39mkwargs)  \u001b[38;5;66;03m# type: ignore[misc]\u001b[39;00m\n\u001b[1;32m   1735\u001b[0m \u001b[38;5;28;01melse\u001b[39;00m:\n\u001b[0;32m-> 1736\u001b[0m     \u001b[38;5;28;01mreturn\u001b[39;00m \u001b[38;5;28;43mself\u001b[39;49m\u001b[38;5;241;43m.\u001b[39;49m\u001b[43m_call_impl\u001b[49m\u001b[43m(\u001b[49m\u001b[38;5;241;43m*\u001b[39;49m\u001b[43margs\u001b[49m\u001b[43m,\u001b[49m\u001b[43m \u001b[49m\u001b[38;5;241;43m*\u001b[39;49m\u001b[38;5;241;43m*\u001b[39;49m\u001b[43mkwargs\u001b[49m\u001b[43m)\u001b[49m\n",
      "File \u001b[0;32m~/blue_dir/conda_envs/gatbert/lib/python3.13/site-packages/torch/nn/modules/module.py:1747\u001b[0m, in \u001b[0;36mModule._call_impl\u001b[0;34m(self, *args, **kwargs)\u001b[0m\n\u001b[1;32m   1742\u001b[0m \u001b[38;5;66;03m# If we don't have any hooks, we want to skip the rest of the logic in\u001b[39;00m\n\u001b[1;32m   1743\u001b[0m \u001b[38;5;66;03m# this function, and just call forward.\u001b[39;00m\n\u001b[1;32m   1744\u001b[0m \u001b[38;5;28;01mif\u001b[39;00m \u001b[38;5;129;01mnot\u001b[39;00m (\u001b[38;5;28mself\u001b[39m\u001b[38;5;241m.\u001b[39m_backward_hooks \u001b[38;5;129;01mor\u001b[39;00m \u001b[38;5;28mself\u001b[39m\u001b[38;5;241m.\u001b[39m_backward_pre_hooks \u001b[38;5;129;01mor\u001b[39;00m \u001b[38;5;28mself\u001b[39m\u001b[38;5;241m.\u001b[39m_forward_hooks \u001b[38;5;129;01mor\u001b[39;00m \u001b[38;5;28mself\u001b[39m\u001b[38;5;241m.\u001b[39m_forward_pre_hooks\n\u001b[1;32m   1745\u001b[0m         \u001b[38;5;129;01mor\u001b[39;00m _global_backward_pre_hooks \u001b[38;5;129;01mor\u001b[39;00m _global_backward_hooks\n\u001b[1;32m   1746\u001b[0m         \u001b[38;5;129;01mor\u001b[39;00m _global_forward_hooks \u001b[38;5;129;01mor\u001b[39;00m _global_forward_pre_hooks):\n\u001b[0;32m-> 1747\u001b[0m     \u001b[38;5;28;01mreturn\u001b[39;00m \u001b[43mforward_call\u001b[49m\u001b[43m(\u001b[49m\u001b[38;5;241;43m*\u001b[39;49m\u001b[43margs\u001b[49m\u001b[43m,\u001b[49m\u001b[43m \u001b[49m\u001b[38;5;241;43m*\u001b[39;49m\u001b[38;5;241;43m*\u001b[39;49m\u001b[43mkwargs\u001b[49m\u001b[43m)\u001b[49m\n\u001b[1;32m   1749\u001b[0m result \u001b[38;5;241m=\u001b[39m \u001b[38;5;28;01mNone\u001b[39;00m\n\u001b[1;32m   1750\u001b[0m called_always_called_hooks \u001b[38;5;241m=\u001b[39m \u001b[38;5;28mset\u001b[39m()\n",
      "Cell \u001b[0;32mIn[14], line 99\u001b[0m, in \u001b[0;36mGATBert.forward\u001b[0;34m(self, kb_ids, edge_indices, input_ids, attention_mask, **bert_kwargs)\u001b[0m\n\u001b[1;32m     96\u001b[0m node_features[batch_indices, offset_node_indices] \u001b[38;5;241m+\u001b[39m\u001b[38;5;241m=\u001b[39m  node_embeddings[batch_indices, node_indices]\n\u001b[1;32m     97\u001b[0m \u001b[38;5;66;03m# Everything else following is zeros, since we used torch.zeros() to construct node_embeddings\u001b[39;00m\n\u001b[0;32m---> 99\u001b[0m last_node_states \u001b[38;5;241m=\u001b[39m \u001b[38;5;28;43mself\u001b[39;49m\u001b[38;5;241;43m.\u001b[39;49m\u001b[43m__rgat\u001b[49m\u001b[43m(\u001b[49m\u001b[43mnode_features\u001b[49m\u001b[43m,\u001b[49m\u001b[43m \u001b[49m\u001b[43medges_tensor\u001b[49m\u001b[43m)\u001b[49m\n\u001b[1;32m    100\u001b[0m \u001b[38;5;66;03m# The first node will correspond to the first token of the sequence, which is [CLS] for Bert models\u001b[39;00m\n\u001b[1;32m    101\u001b[0m cls_node_features \u001b[38;5;241m=\u001b[39m last_node_states[:, \u001b[38;5;241m0\u001b[39m]\n",
      "File \u001b[0;32m~/blue_dir/conda_envs/gatbert/lib/python3.13/site-packages/torch/nn/modules/module.py:1736\u001b[0m, in \u001b[0;36mModule._wrapped_call_impl\u001b[0;34m(self, *args, **kwargs)\u001b[0m\n\u001b[1;32m   1734\u001b[0m     \u001b[38;5;28;01mreturn\u001b[39;00m \u001b[38;5;28mself\u001b[39m\u001b[38;5;241m.\u001b[39m_compiled_call_impl(\u001b[38;5;241m*\u001b[39margs, \u001b[38;5;241m*\u001b[39m\u001b[38;5;241m*\u001b[39mkwargs)  \u001b[38;5;66;03m# type: ignore[misc]\u001b[39;00m\n\u001b[1;32m   1735\u001b[0m \u001b[38;5;28;01melse\u001b[39;00m:\n\u001b[0;32m-> 1736\u001b[0m     \u001b[38;5;28;01mreturn\u001b[39;00m \u001b[38;5;28;43mself\u001b[39;49m\u001b[38;5;241;43m.\u001b[39;49m\u001b[43m_call_impl\u001b[49m\u001b[43m(\u001b[49m\u001b[38;5;241;43m*\u001b[39;49m\u001b[43margs\u001b[49m\u001b[43m,\u001b[49m\u001b[43m \u001b[49m\u001b[38;5;241;43m*\u001b[39;49m\u001b[38;5;241;43m*\u001b[39;49m\u001b[43mkwargs\u001b[49m\u001b[43m)\u001b[49m\n",
      "File \u001b[0;32m~/blue_dir/conda_envs/gatbert/lib/python3.13/site-packages/torch/nn/modules/module.py:1747\u001b[0m, in \u001b[0;36mModule._call_impl\u001b[0;34m(self, *args, **kwargs)\u001b[0m\n\u001b[1;32m   1742\u001b[0m \u001b[38;5;66;03m# If we don't have any hooks, we want to skip the rest of the logic in\u001b[39;00m\n\u001b[1;32m   1743\u001b[0m \u001b[38;5;66;03m# this function, and just call forward.\u001b[39;00m\n\u001b[1;32m   1744\u001b[0m \u001b[38;5;28;01mif\u001b[39;00m \u001b[38;5;129;01mnot\u001b[39;00m (\u001b[38;5;28mself\u001b[39m\u001b[38;5;241m.\u001b[39m_backward_hooks \u001b[38;5;129;01mor\u001b[39;00m \u001b[38;5;28mself\u001b[39m\u001b[38;5;241m.\u001b[39m_backward_pre_hooks \u001b[38;5;129;01mor\u001b[39;00m \u001b[38;5;28mself\u001b[39m\u001b[38;5;241m.\u001b[39m_forward_hooks \u001b[38;5;129;01mor\u001b[39;00m \u001b[38;5;28mself\u001b[39m\u001b[38;5;241m.\u001b[39m_forward_pre_hooks\n\u001b[1;32m   1745\u001b[0m         \u001b[38;5;129;01mor\u001b[39;00m _global_backward_pre_hooks \u001b[38;5;129;01mor\u001b[39;00m _global_backward_hooks\n\u001b[1;32m   1746\u001b[0m         \u001b[38;5;129;01mor\u001b[39;00m _global_forward_hooks \u001b[38;5;129;01mor\u001b[39;00m _global_forward_pre_hooks):\n\u001b[0;32m-> 1747\u001b[0m     \u001b[38;5;28;01mreturn\u001b[39;00m \u001b[43mforward_call\u001b[49m\u001b[43m(\u001b[49m\u001b[38;5;241;43m*\u001b[39;49m\u001b[43margs\u001b[49m\u001b[43m,\u001b[49m\u001b[43m \u001b[49m\u001b[38;5;241;43m*\u001b[39;49m\u001b[38;5;241;43m*\u001b[39;49m\u001b[43mkwargs\u001b[49m\u001b[43m)\u001b[49m\n\u001b[1;32m   1749\u001b[0m result \u001b[38;5;241m=\u001b[39m \u001b[38;5;28;01mNone\u001b[39;00m\n\u001b[1;32m   1750\u001b[0m called_always_called_hooks \u001b[38;5;241m=\u001b[39m \u001b[38;5;28mset\u001b[39m()\n",
      "File \u001b[0;32m/blue/bonniejdorr/ethanlmines/repos/gatbert/gatbert/rgat_layer.py:71\u001b[0m, in \u001b[0;36mRGATLayer.forward\u001b[0;34m(self, node_states, edges)\u001b[0m\n\u001b[1;32m     68\u001b[0m edge_indices \u001b[38;5;241m=\u001b[39m edges\u001b[38;5;241m.\u001b[39mindices()\n\u001b[1;32m     70\u001b[0m \u001b[38;5;66;03m# (total_edges, num_heads, attention_units)\u001b[39;00m\n\u001b[0;32m---> 71\u001b[0m Q_prime \u001b[38;5;241m=\u001b[39m \u001b[43mQ\u001b[49m\u001b[43m[\u001b[49m\u001b[43medge_indices\u001b[49m\u001b[43m[\u001b[49m\u001b[38;5;241;43m0\u001b[39;49m\u001b[43m]\u001b[49m\u001b[43m,\u001b[49m\u001b[43m \u001b[49m\u001b[43medge_indices\u001b[49m\u001b[43m[\u001b[49m\u001b[38;5;241;43m1\u001b[39;49m\u001b[43m]\u001b[49m\u001b[43m,\u001b[49m\u001b[43m \u001b[49m\u001b[43medge_indices\u001b[49m\u001b[43m[\u001b[49m\u001b[38;5;241;43m3\u001b[39;49m\u001b[43m]\u001b[49m\u001b[43m,\u001b[49m\u001b[43m \u001b[49m\u001b[43m:\u001b[49m\u001b[43m,\u001b[49m\u001b[43m \u001b[49m\u001b[43m:\u001b[49m\u001b[43m]\u001b[49m\n\u001b[1;32m     72\u001b[0m K_prime \u001b[38;5;241m=\u001b[39m K[edge_indices[\u001b[38;5;241m0\u001b[39m], edge_indices[\u001b[38;5;241m2\u001b[39m], edge_indices[\u001b[38;5;241m3\u001b[39m], :, :]\n\u001b[1;32m     73\u001b[0m \u001b[38;5;66;03m# (total_edges, num_heads)\u001b[39;00m\n",
      "\u001b[0;31mIndexError\u001b[0m: index 106 is out of bounds for dimension 1 with size 56"
     ]
    }
   ],
   "source": [
    "for batch in loader:\n",
    "    stance = batch.pop('stance')\n",
    "    output = gat_model(**batch)"
   ]
  },
  {
   "cell_type": "code",
   "execution_count": null,
   "metadata": {},
   "outputs": [],
   "source": []
  }
 ],
 "metadata": {
  "kernelspec": {
   "display_name": "gatbert",
   "language": "python",
   "name": "python3"
  },
  "language_info": {
   "codemirror_mode": {
    "name": "ipython",
    "version": 3
   },
   "file_extension": ".py",
   "mimetype": "text/x-python",
   "name": "python",
   "nbconvert_exporter": "python",
   "pygments_lexer": "ipython3",
   "version": "3.13.1"
  }
 },
 "nbformat": 4,
 "nbformat_minor": 2
}
