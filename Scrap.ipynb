{
 "cells": [
  {
   "cell_type": "code",
   "execution_count": 1,
   "metadata": {},
   "outputs": [
    {
     "name": "stderr",
     "output_type": "stream",
     "text": [
      "/home/ethanlmines/blue_dir/conda_envs/gatbert/lib/python3.13/site-packages/tqdm/auto.py:21: TqdmWarning: IProgress not found. Please update jupyter and ipywidgets. See https://ipywidgets.readthedocs.io/en/stable/user_install.html\n",
      "  from .autonotebook import tqdm as notebook_tqdm\n"
     ]
    }
   ],
   "source": [
    "# STL\n",
    "import os\n",
    "os.environ['TOKENIZERS_PARALLELISM'] = 'false'\n",
    "# 3rd Party\n",
    "import torch\n",
    "from transformers import AutoTokenizer\n",
    "# Local\n",
    "from gatbert.data import parse_graph_tsv\n",
    "from gatbert.graph_sample import GraphSample, Edge\n",
    "from gatbert.constants import Stance"
   ]
  },
  {
   "cell_type": "code",
   "execution_count": 2,
   "metadata": {},
   "outputs": [
    {
     "name": "stdout",
     "output_type": "stream",
     "text": [
      "{'input_ids': [0, 45986, 46021, 9, 796, 1332, 2], 'attention_mask': [1, 1, 1, 1, 1, 1, 1], 'offset_mapping': [(0, 0), (0, 5), (5, 12), (13, 15), (16, 24), (25, 30), (0, 0)]}\n"
     ]
    },
    {
     "data": {
      "text/plain": [
       "['<s>', 'Ġabbre', 'viation', 'Ġof', 'ĠEuropean', 'ĠUnion', '</s>']"
      ]
     },
     "execution_count": 2,
     "metadata": {},
     "output_type": "execute_result"
    }
   ],
   "source": [
    "rob_tokenizer = AutoTokenizer.from_pretrained(\"textattack/roberta-base-MNLI\", use_fast=True, add_prefix_space=True)\n",
    "rob_encoding = rob_tokenizer(['abbreviation of European Union'], is_split_into_words=True, return_offsets_mapping=True)\n",
    "print(rob_encoding)\n",
    "rob_tokenizer.convert_ids_to_tokens(rob_encoding['input_ids'])"
   ]
  },
  {
   "cell_type": "code",
   "execution_count": 3,
   "metadata": {},
   "outputs": [
    {
     "name": "stdout",
     "output_type": "stream",
     "text": [
      "{'input_ids': [101, 22498, 1997, 2647, 2586, 102], 'token_type_ids': [0, 0, 0, 0, 0, 0], 'attention_mask': [1, 1, 1, 1, 1, 1], 'offset_mapping': [(0, 0), (0, 12), (13, 15), (16, 24), (25, 30), (0, 0)]}\n"
     ]
    },
    {
     "data": {
      "text/plain": [
       "['[CLS]', 'abbreviation', 'of', 'european', 'union', '[SEP]']"
      ]
     },
     "execution_count": 3,
     "metadata": {},
     "output_type": "execute_result"
    }
   ],
   "source": [
    "pretrained_model_name = 'bert-base-uncased'\n",
    "tokenizer = AutoTokenizer.from_pretrained(pretrained_model_name, use_fast=True, add_prefix_space=True)\n",
    "encoding = tokenizer(['abbreviation of european union'], is_split_into_words=True, return_offsets_mapping=True)\n",
    "print(encoding)\n",
    "tokenizer.convert_ids_to_tokens(encoding['input_ids'])"
   ]
  },
  {
   "cell_type": "code",
   "execution_count": 3,
   "metadata": {},
   "outputs": [],
   "source": [
    "target = [\"Pakistan\", \"government\"]\n",
    "context = \"We need to stop supporting governmentalists who harbor terrorists .\".split()\n",
    "kb =[\"/c/en/governmentalists\", \"/c/en/pakistan\"]\n",
    "sample = GraphSample(\n",
    "    stance=Stance.FAVOR,\n",
    "    target=target,\n",
    "    context=context,\n",
    "    kb=kb,\n",
    "    edges=[\n",
    "        Edge(len(target) + 5, len(target) + len(context) + 0, 42), # govermenalists in context to /c/en/governmentalists\n",
    "    ]\n",
    ")\n"
   ]
  },
  {
   "cell_type": "code",
   "execution_count": 4,
   "metadata": {},
   "outputs": [],
   "source": [
    "graph_gen = parse_graph_tsv('scrap2.tsv')"
   ]
  },
  {
   "cell_type": "code",
   "execution_count": 5,
   "metadata": {},
   "outputs": [],
   "source": [
    "self = next(graph_gen)"
   ]
  },
  {
   "cell_type": "code",
   "execution_count": 6,
   "metadata": {},
   "outputs": [
    {
     "name": "stderr",
     "output_type": "stream",
     "text": [
      "Token indices sequence length is longer than the specified maximum sequence length for this model (597 > 512). Running this sequence through the model will result in indexing errors\n",
      "WARNING:root:Discarded 207/335 of external nodes\n"
     ]
    }
   ],
   "source": [
    "result_dict = self.encode(tokenizer)"
   ]
  },
  {
   "cell_type": "code",
   "execution_count": 7,
   "metadata": {},
   "outputs": [
    {
     "name": "stdout",
     "output_type": "stream",
     "text": [
      "input_ids torch.Size([307])\n",
      "node_mask torch.Size([1, 197, 307])\n",
      "edge_indices torch.Size([4, 9754])\n"
     ]
    }
   ],
   "source": [
    "for (k, v) in result_dict.items():\n",
    "    print(k, v.shape)"
   ]
  },
  {
   "cell_type": "code",
   "execution_count": null,
   "metadata": {},
   "outputs": [],
   "source": []
  }
 ],
 "metadata": {
  "kernelspec": {
   "display_name": "gatbert",
   "language": "python",
   "name": "python3"
  },
  "language_info": {
   "codemirror_mode": {
    "name": "ipython",
    "version": 3
   },
   "file_extension": ".py",
   "mimetype": "text/x-python",
   "name": "python",
   "nbconvert_exporter": "python",
   "pygments_lexer": "ipython3",
   "version": "3.13.1"
  }
 },
 "nbformat": 4,
 "nbformat_minor": 2
}
