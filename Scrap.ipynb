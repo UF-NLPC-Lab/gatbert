{
 "cells": [
  {
   "cell_type": "code",
   "execution_count": 1,
   "metadata": {},
   "outputs": [
    {
     "name": "stderr",
     "output_type": "stream",
     "text": [
      "/home/ethanlmines/blue_dir/conda_envs/gatbert/lib/python3.13/site-packages/tqdm/auto.py:21: TqdmWarning: IProgress not found. Please update jupyter and ipywidgets. See https://ipywidgets.readthedocs.io/en/stable/user_install.html\n",
      "  from .autonotebook import tqdm as notebook_tqdm\n"
     ]
    }
   ],
   "source": [
    "# STL\n",
    "import os\n",
    "from typing import Optional, Dict, Any\n",
    "os.environ['TOKENIZERS_PARALLELISM'] = 'false'\n",
    "# 3rd Party\n",
    "import torch\n",
    "from torch.utils.data import DataLoader\n",
    "torch.manual_seed(0)\n",
    "from transformers import BertModel, AutoModel, BertTokenizerFast, AutoTokenizer, PreTrainedTokenizerFast\n",
    "from tokenizers.pre_tokenizers import BertPreTokenizer, PreTokenizer\n",
    "# Local\n",
    "from gatbert.constants import DEFAULT_MODEL, Stance, NodeType, NODE_PAD_ID\n",
    "from gatbert.data import *\n",
    "from gatbert.rgat_layer import RGATLayer"
   ]
  },
  {
   "cell_type": "code",
   "execution_count": 2,
   "metadata": {},
   "outputs": [],
   "source": [
    "class GATBert(torch.nn.Module):\n",
    "    def __init__(self,\n",
    "                 pretrained_model: str,\n",
    "                 n_relations: int,\n",
    "                 n_kb_nodes: int,\n",
    "                 n_classes: int,\n",
    "                 n_bases: int = 20,\n",
    "                 ):\n",
    "        \"\"\"\n",
    "        Args:\n",
    "            n_kb_nodes: Number of unique kb nodes (including the padding node)\n",
    "            n_relation: Number of unique relations (including the padding relation)\n",
    "\n",
    "        Relation 0 represents token-to-token\n",
    "        \"\"\"\n",
    "        super().__init__()\n",
    "        self.__n_relations = n_relations\n",
    "        self.__bert_model = BertModel.from_pretrained(pretrained_model)\n",
    "        self.__feature_size: int = self.__bert_model.config.hidden_size\n",
    "        self.__n_classes = n_classes\n",
    "\n",
    "        self.__pad_token_id: int = self.__bert_model.config.pad_token_id\n",
    "\n",
    "        self.__kb_embeddings = torch.nn.Embedding(\n",
    "            num_embeddings=n_kb_nodes,\n",
    "            embedding_dim=self.__feature_size,\n",
    "            padding_idx=NODE_PAD_ID\n",
    "        )\n",
    "\n",
    "        self.__rgat = RGATLayer(\n",
    "            in_features=self.__feature_size,\n",
    "            attention_units=self.__feature_size,\n",
    "            out_features=self.__feature_size,\n",
    "            n_heads=6,\n",
    "            n_relations=self.__n_relations,\n",
    "            n_bases=n_bases,\n",
    "            attention_mode='wirgat'\n",
    "        )\n",
    "\n",
    "        self.__projection = torch.nn.Linear(self.__feature_size, self.__n_classes)\n",
    "\n",
    "    def forward(self,\n",
    "                 kb_ids: torch.Tensor,\n",
    "                 edge_indices: torch.Tensor,\n",
    "                 input_ids: torch.Tensor,\n",
    "                 attention_mask: torch.Tensor,\n",
    "                 **bert_kwargs):\n",
    "        \"\"\"\n",
    "\n",
    "        Args:\n",
    "            kb_ids: (batch, max_external_nodes) array with the IDs of knowledge base nodes\n",
    "            edge_indices: (?, 6) index array with latter 6 components being (batch, head, tail, relation, head_node_type, tail_node_type)\n",
    "                batch indexes into the batch dim of other arguments\n",
    "                head indexes into the seq dim of input_ids, or the node dim of kb_ids\n",
    "                tail indexes into the seq dim of input_ids, or the node dim of kb_ids\n",
    "                head_node_type indicates whether head indexes into input_ids or kb_ids\n",
    "                tail_node_type indicates whether tail indexes into input_ids or kb_ids\n",
    "            input_ids: (batch, max_sequence_length) array with token IDs\n",
    "                Indexes into our token embeddings\n",
    "            attention_mask: attention mask array for input_ids\n",
    "            bert_kwargs: kwargs to pass on to underlying bert model\n",
    "        Returns:\n",
    "            (batch, 3) array of stance class log probabilities\n",
    "        \"\"\"\n",
    "\n",
    "        bert_encodings: torch.Tensor = self.__bert_model(input_ids=input_ids,\n",
    "                                                             attention_mask=attention_mask,\n",
    "                                                             **bert_kwargs).last_hidden_state\n",
    "        node_embeddings = self.__kb_embeddings(kb_ids)\n",
    "\n",
    "        not_token_padding = input_ids != self.__pad_token_id\n",
    "        # Number of tokens in each sequence of the batch.\n",
    "        n_tokens = torch.sum(not_token_padding, dim=-1)\n",
    "        not_node_padding = kb_ids != NODE_PAD_ID\n",
    "        # Number of external nodes in each sequence of the batch\n",
    "        n_kb_nodes = torch.sum(not_node_padding, dim=-1)\n",
    "        max_graph_size = torch.max(n_tokens + n_kb_nodes)\n",
    "\n",
    "        # Pack the features from tokens and external KB nodes together into one feature map\n",
    "        # All features are zero by default\n",
    "        node_features = torch.zeros([input_ids.shape[0], max_graph_size, self.__feature_size])\n",
    "        # The first nodes' features should be from tokens\n",
    "        batch_token_indices, token_indices = torch.where(not_token_padding)\n",
    "        node_features[batch_token_indices, token_indices] = bert_encodings[batch_token_indices, token_indices]\n",
    "        # The immediately subsequent nodes should have KB features\n",
    "        batch_node_indices, node_indices = torch.where(not_node_padding)\n",
    "        translated_node_indices = n_tokens[batch_node_indices] + node_indices\n",
    "        node_features[batch_node_indices, translated_node_indices] += node_embeddings[batch_node_indices, node_indices]\n",
    "        # Everything else following is zeros, since we used torch.zeros() to construct node_embeddings\n",
    "\n",
    "        # The GAT layer doesn't take node types--it expects a unique ID for each node\n",
    "        # Thus, we take the number of token nodes for a sequence, and use that as an\n",
    "        # offset for the IDs of KB nodes\n",
    "        kb_head_indices = torch.where(edge_indices[4] == NodeType.KB.value)[0]\n",
    "        head_offsets = n_tokens[edge_indices[0, kb_head_indices]]\n",
    "        edge_indices[1, kb_head_indices] += head_offsets\n",
    "\n",
    "        kb_tail_indices = torch.where(edge_indices[5] == NodeType.KB.value)[0]\n",
    "        tail_offsets = n_tokens[edge_indices[0, kb_tail_indices]]\n",
    "        edge_indices[2, kb_tail_indices] += tail_offsets\n",
    "\n",
    "        edges_tensor = torch.sparse_coo_tensor(\n",
    "            indices=edge_indices[:4],\n",
    "            values=torch.ones(edge_indices.shape[1]),\n",
    "            size=(input_ids.shape[0], max_graph_size, max_graph_size, self.__n_relations),\n",
    "            is_coalesced=True\n",
    "        )\n",
    "\n",
    "        last_node_states = self.__rgat(node_features, edges_tensor)\n",
    "        # The first node will correspond to the first token of the sequence, which is [CLS] for Bert models\n",
    "        cls_node_features = last_node_states[:, 0]\n",
    "        logits = self.__projection(cls_node_features)\n",
    "        return logits"
   ]
  },
  {
   "cell_type": "code",
   "execution_count": 3,
   "metadata": {},
   "outputs": [],
   "source": [
    "pretrained_model_name = 'bert-base-cased'"
   ]
  },
  {
   "cell_type": "code",
   "execution_count": 4,
   "metadata": {},
   "outputs": [],
   "source": [
    "tokenizer = AutoTokenizer.from_pretrained(pretrained_model_name, use_fast=True)"
   ]
  },
  {
   "cell_type": "code",
   "execution_count": null,
   "metadata": {},
   "outputs": [],
   "source": [
    "encoder = make_encoder(tokenizer, BertPreTokenizer())\n",
    "fake_samples = [\n",
    "    Sample(\n",
    "        context=\"We hold these truths to be self-evident, that all men are created equal, that they are endowed by their Creator with certain unalienable Rights, that among these are Life, Liberty and the pursuit of Happiness.\",\n",
    "        target=\"Independence from Britain\",\n",
    "        stance=Stance.FAVOR\n",
    "    ),\n",
    "    Sample(\n",
    "        context=\"Four score and seven years ago our fathers brought forth on this continent, a new nation, conceived in Liberty, and dedicated to the proposition that all men are created equal.\",\n",
    "        target=\"Social Security\",\n",
    "        stance=Stance.NONE\n",
    "    )\n",
    "]\n",
    "ds = MapDataset([encoder(s) for s in fake_samples])\n",
    "loader = DataLoader(ds, batch_size=2, shuffle=False, collate_fn=make_collate_fn(tokenizer))"
   ]
  },
  {
   "cell_type": "code",
   "execution_count": 6,
   "metadata": {},
   "outputs": [],
   "source": [
    "gat_model = GATBert(\n",
    "    pretrained_model=pretrained_model_name,\n",
    "    n_relations=len(DummyRelationType),\n",
    "    n_kb_nodes=1001,\n",
    "    n_classes=len(Stance)\n",
    ")"
   ]
  },
  {
   "cell_type": "code",
   "execution_count": 7,
   "metadata": {},
   "outputs": [],
   "source": [
    "for batch in loader:\n",
    "    stance = batch.pop('stance')\n",
    "    output = gat_model(**batch)"
   ]
  },
  {
   "cell_type": "code",
   "execution_count": 8,
   "metadata": {},
   "outputs": [
    {
     "data": {
      "text/plain": [
       "torch.Size([2, 3])"
      ]
     },
     "execution_count": 8,
     "metadata": {},
     "output_type": "execute_result"
    }
   ],
   "source": [
    "output.shape"
   ]
  },
  {
   "cell_type": "code",
   "execution_count": null,
   "metadata": {},
   "outputs": [],
   "source": []
  }
 ],
 "metadata": {
  "kernelspec": {
   "display_name": "gatbert",
   "language": "python",
   "name": "python3"
  },
  "language_info": {
   "codemirror_mode": {
    "name": "ipython",
    "version": 3
   },
   "file_extension": ".py",
   "mimetype": "text/x-python",
   "name": "python",
   "nbconvert_exporter": "python",
   "pygments_lexer": "ipython3",
   "version": "3.13.1"
  }
 },
 "nbformat": 4,
 "nbformat_minor": 2
}
