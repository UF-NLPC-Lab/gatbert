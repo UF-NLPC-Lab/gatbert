{
 "cells": [
  {
   "cell_type": "code",
   "execution_count": null,
   "metadata": {},
   "outputs": [],
   "source": [
    "from gatbert.data import parse_graph_tsv\n",
    "from gatbert.graph_sample import GraphSample\n",
    "import graphviz"
   ]
  },
  {
   "cell_type": "code",
   "execution_count": null,
   "metadata": {},
   "outputs": [],
   "source": [
    "samples = parse_graph_tsv(\"debug.tsv\")"
   ]
  },
  {
   "cell_type": "code",
   "execution_count": null,
   "metadata": {},
   "outputs": [],
   "source": [
    "houston = next(samples)"
   ]
  },
  {
   "cell_type": "code",
   "execution_count": null,
   "metadata": {},
   "outputs": [],
   "source": [
    "def to_graphviz(sample):\n",
    "    G = graphviz.Digraph()\n",
    "    i = 0\n",
    "    for token in sample.target:\n",
    "        G.node(str(i), token)\n",
    "        i += 1\n",
    "    for token in sample.context:\n",
    "        G.node(str(i), token)\n",
    "        i += 1\n",
    "    for concept in sample.kb:\n",
    "        G.node(str(i), concept)\n",
    "        i += 1 \n",
    "    for edge in sample.edges:\n",
    "        G.edge(str(edge.head_node_index), str(edge.tail_node_index))#, constraint='false')\n",
    "    return G"
   ]
  },
  {
   "cell_type": "code",
   "execution_count": null,
   "metadata": {},
   "outputs": [],
   "source": [
    "def subgraph(sample: GraphSample, label, subset = 'concept'):\n",
    "    G = graphviz.Digraph()\n",
    "    if subset == 'concept':\n",
    "        index = len(sample.target) + len(sample.context) + sample.kb.index(label)\n",
    "    elif subset == 'context':\n",
    "        index = len(sample.target) + sample.context.index(label)\n",
    "    else:\n",
    "        assert subset == 'target'\n",
    "        index = sample.target.index(label)\n",
    "    neighborhood = set()\n",
    "    kept_edges = []\n",
    "    for edge in filter(lambda e: e.head_node_index == index or e.tail_node_index == index, sample.edges):\n",
    "        neighborhood.add(edge.head_node_index)\n",
    "        neighborhood.add(edge.tail_node_index)\n",
    "        kept_edges.append(edge)\n",
    "    for (i, label) in filter(lambda trip: trip[0] in neighborhood, enumerate(sample.target + sample.context + sample.kb)):\n",
    "        G.node(str(i), label)\n",
    "    for edge in kept_edges:\n",
    "        G.edge(str(edge.head_node_index), str(edge.tail_node_index))#, constraint='false')\n",
    "        pass\n",
    "    return G"
   ]
  },
  {
   "cell_type": "code",
   "execution_count": null,
   "metadata": {},
   "outputs": [],
   "source": [
    "subgraph(houston, \"NFL\", 'context')"
   ]
  },
  {
   "cell_type": "code",
   "execution_count": null,
   "metadata": {},
   "outputs": [],
   "source": [
    "subgraph(houston, '/c/en/nfl', 'concept')"
   ]
  },
  {
   "cell_type": "code",
   "execution_count": null,
   "metadata": {},
   "outputs": [],
   "source": [
    "subgraph(houston, '/c/en/crew/n/wikt/en_1', 'concept')"
   ]
  },
  {
   "cell_type": "code",
   "execution_count": null,
   "metadata": {},
   "outputs": [],
   "source": [
    "import json\n",
    "from gatbert.graph import CNGraph\n",
    "with open(\"/home/ethanlmines/blue_dir/datasets/ezstance/subtaskA/noun_phrase/cn_subgraph.json\", 'r') as r:\n",
    "    graph = CNGraph.from_json(json.load(r))"
   ]
  },
  {
   "cell_type": "code",
   "execution_count": null,
   "metadata": {},
   "outputs": [],
   "source": [
    "graph.tok2id['Houston']"
   ]
  },
  {
   "cell_type": "code",
   "execution_count": null,
   "metadata": {},
   "outputs": [],
   "source": []
  }
 ],
 "metadata": {
  "kernelspec": {
   "display_name": "gatbert",
   "language": "python",
   "name": "python3"
  },
  "language_info": {
   "codemirror_mode": {
    "name": "ipython",
    "version": 3
   },
   "file_extension": ".py",
   "mimetype": "text/x-python",
   "name": "python",
   "nbconvert_exporter": "python",
   "pygments_lexer": "ipython3",
   "version": "3.13.1"
  }
 },
 "nbformat": 4,
 "nbformat_minor": 2
}
