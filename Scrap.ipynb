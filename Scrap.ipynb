{
 "cells": [
  {
   "cell_type": "code",
   "execution_count": 1,
   "metadata": {},
   "outputs": [
    {
     "name": "stderr",
     "output_type": "stream",
     "text": [
      "/home/ethanlmines/blue_dir/conda_envs/gatbert/lib/python3.13/site-packages/tqdm/auto.py:21: TqdmWarning: IProgress not found. Please update jupyter and ipywidgets. See https://ipywidgets.readthedocs.io/en/stable/user_install.html\n",
      "  from .autonotebook import tqdm as notebook_tqdm\n"
     ]
    }
   ],
   "source": [
    "# STL\n",
    "import os\n",
    "os.environ['TOKENIZERS_PARALLELISM'] = 'false'\n",
    "import logging\n",
    "# 3rd Party\n",
    "import torch\n",
    "from transformers import AutoTokenizer\n",
    "# Local\n",
    "from gatbert.data import parse_graph_tsv\n",
    "from gatbert.graph_sample import GraphSample, Edge\n",
    "from gatbert.constants import Stance\n",
    "from gatbert.utils import batched, change_log_level"
   ]
  },
  {
   "cell_type": "code",
   "execution_count": 2,
   "metadata": {},
   "outputs": [],
   "source": [
    "pretrained_model_name = 'bert-base-uncased'\n",
    "tokenizer = AutoTokenizer.from_pretrained(pretrained_model_name, use_fast=True, add_prefix_space=True)"
   ]
  },
  {
   "cell_type": "code",
   "execution_count": 3,
   "metadata": {},
   "outputs": [],
   "source": [
    "import logging\n",
    "from contextlib import contextmanager\n",
    "@contextmanager\n",
    "def change_log_level(logger_name: str, log_level: int = logging.ERROR):\n",
    "    try:\n",
    "        logger = logging.getLogger(logger_name)\n",
    "        old_level = logger.getEffectiveLevel()\n",
    "        logger.setLevel(log_level)\n",
    "        yield\n",
    "    finally:\n",
    "        logger.setLevel(old_level)"
   ]
  },
  {
   "cell_type": "code",
   "execution_count": 4,
   "metadata": {},
   "outputs": [
    {
     "name": "stdout",
     "output_type": "stream",
     "text": [
      "torch.Size([4, 344]) torch.Size([4, 197, 344]) torch.Size([4, 34871])\n"
     ]
    }
   ],
   "source": [
    "graph_gen = parse_graph_tsv('scrap.tsv')\n",
    "graph_gen = map(lambda sample: sample.encode(tokenizer), graph_gen)\n",
    "graph_gen = batched(graph_gen, 4)\n",
    "graph_gen = map(GraphSample.collate, graph_gen)\n",
    "\n",
    "with change_log_level(\"transformers.tokenization_utils_base\"):\n",
    "    for batch in graph_gen:\n",
    "        print(*[t.shape for t in batch.values()])\n",
    "        break"
   ]
  },
  {
   "cell_type": "code",
   "execution_count": null,
   "metadata": {},
   "outputs": [],
   "source": []
  },
  {
   "cell_type": "code",
   "execution_count": 24,
   "metadata": {},
   "outputs": [],
   "source": []
  },
  {
   "cell_type": "code",
   "execution_count": null,
   "metadata": {},
   "outputs": [],
   "source": []
  }
 ],
 "metadata": {
  "kernelspec": {
   "display_name": "gatbert",
   "language": "python",
   "name": "python3"
  },
  "language_info": {
   "codemirror_mode": {
    "name": "ipython",
    "version": 3
   },
   "file_extension": ".py",
   "mimetype": "text/x-python",
   "name": "python",
   "nbconvert_exporter": "python",
   "pygments_lexer": "ipython3",
   "version": "3.13.1"
  }
 },
 "nbformat": 4,
 "nbformat_minor": 2
}
