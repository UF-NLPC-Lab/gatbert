{
 "cells": [
  {
   "cell_type": "code",
   "execution_count": 1,
   "metadata": {},
   "outputs": [
    {
     "name": "stderr",
     "output_type": "stream",
     "text": [
      "/home/ethanlmines/blue_dir/conda_envs/gatbert/lib/python3.13/site-packages/tqdm/auto.py:21: TqdmWarning: IProgress not found. Please update jupyter and ipywidgets. See https://ipywidgets.readthedocs.io/en/stable/user_install.html\n",
      "  from .autonotebook import tqdm as notebook_tqdm\n"
     ]
    }
   ],
   "source": [
    "# STL\n",
    "import os\n",
    "os.environ['TOKENIZERS_PARALLELISM'] = 'false'\n",
    "# 3rd Party\n",
    "import torch\n",
    "from gatbert.rgat_layer import RGATLayer\n",
    "torch.manual_seed(0)\n",
    "from transformers import BertModel, AutoModel"
   ]
  },
  {
   "cell_type": "code",
   "execution_count": 4,
   "metadata": {},
   "outputs": [],
   "source": [
    "in_features = 123\n",
    "attention_units = 53\n",
    "out_features = 264\n",
    "n_heads = 6\n",
    "n_relations = 7\n",
    "n_bases = 3\n",
    "max_nodes = 10\n",
    "batch_size = 5"
   ]
  },
  {
   "cell_type": "code",
   "execution_count": 5,
   "metadata": {},
   "outputs": [
    {
     "data": {
      "text/plain": [
       "torch.Size([5, 10, 123])"
      ]
     },
     "execution_count": 5,
     "metadata": {},
     "output_type": "execute_result"
    }
   ],
   "source": [
    "gen = torch.Generator().manual_seed(1)\n",
    "random_features = 5 * (torch.randn(batch_size, max_nodes, in_features, generator=gen) - .5)\n",
    "random_features.shape"
   ]
  },
  {
   "cell_type": "code",
   "execution_count": 6,
   "metadata": {},
   "outputs": [
    {
     "data": {
      "text/plain": [
       "tensor(indices=tensor([[0, 0, 0,  ..., 4, 4, 4],\n",
       "                       [0, 0, 0,  ..., 9, 9, 9],\n",
       "                       [0, 0, 0,  ..., 9, 9, 9],\n",
       "                       [1, 2, 5,  ..., 3, 4, 6]]),\n",
       "       values=tensor([1, 1, 1,  ..., 1, 1, 1]),\n",
       "       size=(5, 10, 10, 7), nnz=1779, layout=torch.sparse_coo)"
      ]
     },
     "execution_count": 6,
     "metadata": {},
     "output_type": "execute_result"
    }
   ],
   "source": [
    "gen = torch.Generator().manual_seed(2)\n",
    "random_adj = torch.randint(0, 2, size=[batch_size, max_nodes, max_nodes, n_relations], generator=gen).to_sparse()\n",
    "random_adj"
   ]
  },
  {
   "cell_type": "code",
   "execution_count": 8,
   "metadata": {},
   "outputs": [],
   "source": [
    "torch.manual_seed(0)\n",
    "model = RGATLayer(in_features=in_features,\n",
    "                          attention_units=attention_units,\n",
    "                          out_features=out_features,\n",
    "                          n_heads=n_heads,\n",
    "                          n_relations=n_relations,\n",
    "                          n_bases=n_bases,\n",
    "                          attention_mode='argat')"
   ]
  },
  {
   "cell_type": "code",
   "execution_count": 9,
   "metadata": {},
   "outputs": [
    {
     "data": {
      "text/plain": [
       "torch.Size([5, 10, 264])"
      ]
     },
     "execution_count": 9,
     "metadata": {},
     "output_type": "execute_result"
    }
   ],
   "source": [
    "output = model(random_features, random_adj)\n",
    "output.shape\n"
   ]
  },
  {
   "cell_type": "code",
   "execution_count": 139,
   "metadata": {},
   "outputs": [
    {
     "name": "stdout",
     "output_type": "stream",
     "text": [
      "Logits grad: tensor([[-1.0378e+00, -6.7509e-01, -2.8978e-01, -6.1378e-01, -2.2774e-01,\n",
      "          2.9163e-01],\n",
      "        [-1.7269e+00,  6.4099e-02, -1.3452e+00, -1.7433e-01, -2.3266e+00,\n",
      "         -5.7234e-01],\n",
      "        [ 3.0749e+00, -2.2655e+00,  2.4762e-01, -1.6088e+00, -9.8352e-01,\n",
      "         -1.7201e-01],\n",
      "        ...,\n",
      "        [ 6.3667e-01,  6.4911e-01,  7.7401e-04, -3.0992e-01,  1.5062e-01,\n",
      "         -8.9753e-01],\n",
      "        [ 2.5477e-01,  6.1890e-01,  1.5265e-01,  8.2389e-02, -5.5311e-01,\n",
      "          1.5517e-01],\n",
      "        [-1.2211e-01,  2.1029e-01, -1.0515e-02,  2.1513e-02, -3.0218e-01,\n",
      "         -4.7483e-01]])\n"
     ]
    }
   ],
   "source": [
    "loss = torch.sum(output)\n",
    "loss.backward()"
   ]
  },
  {
   "cell_type": "code",
   "execution_count": null,
   "metadata": {},
   "outputs": [],
   "source": []
  },
  {
   "cell_type": "code",
   "execution_count": null,
   "metadata": {},
   "outputs": [],
   "source": []
  }
 ],
 "metadata": {
  "kernelspec": {
   "display_name": "gatbert",
   "language": "python",
   "name": "python3"
  },
  "language_info": {
   "codemirror_mode": {
    "name": "ipython",
    "version": 3
   },
   "file_extension": ".py",
   "mimetype": "text/x-python",
   "name": "python",
   "nbconvert_exporter": "python",
   "pygments_lexer": "ipython3",
   "version": "3.13.1"
  }
 },
 "nbformat": 4,
 "nbformat_minor": 2
}
