{
 "cells": [
  {
   "cell_type": "code",
   "execution_count": null,
   "metadata": {},
   "outputs": [],
   "source": [
    "# STL\n",
    "import os\n",
    "os.environ['TOKENIZERS_PARALLELISM'] = 'false'\n",
    "import logging\n",
    "# 3rd Party\n",
    "import torch\n",
    "from transformers import AutoTokenizer\n",
    "# Local\n",
    "from gatbert.data import parse_graph_tsv, make_file_parser, make_collate_fn\n",
    "from gatbert.graph_sample import GraphSample, Edge\n",
    "from gatbert.constants import Stance\n",
    "from gatbert.utils import batched, change_log_level"
   ]
  },
  {
   "cell_type": "code",
   "execution_count": 2,
   "metadata": {},
   "outputs": [],
   "source": [
    "pretrained_model_name = 'bert-base-uncased'\n",
    "tokenizer = AutoTokenizer.from_pretrained(pretrained_model_name, use_fast=True, add_prefix_space=True)"
   ]
  },
  {
   "cell_type": "code",
   "execution_count": 3,
   "metadata": {},
   "outputs": [],
   "source": [
    "parse_fn = make_file_parser('graph', tokenizer)\n",
    "collate_fn = make_collate_fn('graph', tokenizer)"
   ]
  },
  {
   "cell_type": "code",
   "execution_count": null,
   "metadata": {},
   "outputs": [],
   "source": [
    "sample_gen = parse_fn('scrap.tsv')\n",
    "sample_gen = batched(sample_gen, 4)\n",
    "sample_gen = map(collate_fn, sample_gen)\n",
    "for batch in sample_gen:\n",
    "    print(*[t.shape for t in batch.values()])\n"
   ]
  },
  {
   "cell_type": "code",
   "execution_count": null,
   "metadata": {},
   "outputs": [],
   "source": [
    "graph_gen = parse_graph_tsv('scrap.tsv')\n",
    "graph_gen = map(lambda sample: sample.encode(tokenizer), graph_gen)\n",
    "# graph_gen = batched(graph_gen, 4)\n",
    "# graph_gen = map(GraphSample.collate, graph_gen)\n",
    "with change_log_level(\"transformers.tokenization_utils_base\"):\n",
    "    for batch in graph_gen:"
   ]
  },
  {
   "cell_type": "code",
   "execution_count": null,
   "metadata": {},
   "outputs": [],
   "source": []
  },
  {
   "cell_type": "code",
   "execution_count": 24,
   "metadata": {},
   "outputs": [],
   "source": []
  },
  {
   "cell_type": "code",
   "execution_count": null,
   "metadata": {},
   "outputs": [],
   "source": []
  }
 ],
 "metadata": {
  "kernelspec": {
   "display_name": "gatbert",
   "language": "python",
   "name": "python3"
  },
  "language_info": {
   "codemirror_mode": {
    "name": "ipython",
    "version": 3
   },
   "file_extension": ".py",
   "mimetype": "text/x-python",
   "name": "python",
   "nbconvert_exporter": "python",
   "pygments_lexer": "ipython3",
   "version": "3.13.1"
  }
 },
 "nbformat": 4,
 "nbformat_minor": 2
}
